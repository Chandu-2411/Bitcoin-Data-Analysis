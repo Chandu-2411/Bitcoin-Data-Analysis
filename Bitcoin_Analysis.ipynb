{
 "cells": [
  {
   "cell_type": "markdown",
   "id": "d7b190b2-6524-49f9-bea1-a7f693bf282f",
   "metadata": {
    "jp-MarkdownHeadingCollapsed": true
   },
   "source": [
    "### 1..Lets read Data & perform basic analysis!!"
   ]
  },
  {
   "cell_type": "code",
   "execution_count": 1,
   "id": "58e881bd-a78f-4540-8cd2-7c9b74d3ce1e",
   "metadata": {},
   "outputs": [],
   "source": [
    "import pandas as pd\n",
    "import numpy as np\n",
    "import matplotlib.pyplot as plt\n",
    "import seaborn as sns"
   ]
  },
  {
   "cell_type": "code",
   "execution_count": 13,
   "id": "6bc30ec1-1993-45f6-ac4e-c2390df2f471",
   "metadata": {},
   "outputs": [],
   "source": [
    "df = pd.read_csv(r'C:\\Users\\chandu.v01\\Downloads\\Python DataSceince\\Bitcoin Analysis/bitcoin_price_Training - Training.csv')"
   ]
  },
  {
   "cell_type": "code",
   "execution_count": 14,
   "id": "9f0ddf49-fedb-4f2b-80c6-f74ccb738ca0",
   "metadata": {},
   "outputs": [
    {
     "data": {
      "text/html": [
       "<div>\n",
       "<style scoped>\n",
       "    .dataframe tbody tr th:only-of-type {\n",
       "        vertical-align: middle;\n",
       "    }\n",
       "\n",
       "    .dataframe tbody tr th {\n",
       "        vertical-align: top;\n",
       "    }\n",
       "\n",
       "    .dataframe thead th {\n",
       "        text-align: right;\n",
       "    }\n",
       "</style>\n",
       "<table border=\"1\" class=\"dataframe\">\n",
       "  <thead>\n",
       "    <tr style=\"text-align: right;\">\n",
       "      <th></th>\n",
       "      <th>Date</th>\n",
       "      <th>Open</th>\n",
       "      <th>High</th>\n",
       "      <th>Low</th>\n",
       "      <th>Close</th>\n",
       "      <th>Volume</th>\n",
       "      <th>Market Cap</th>\n",
       "    </tr>\n",
       "  </thead>\n",
       "  <tbody>\n",
       "    <tr>\n",
       "      <th>0</th>\n",
       "      <td>17-Feb-20</td>\n",
       "      <td>2763.24</td>\n",
       "      <td>2889.62</td>\n",
       "      <td>2720.61</td>\n",
       "      <td>2875.34</td>\n",
       "      <td>860,575,000</td>\n",
       "      <td>45,535,800,000</td>\n",
       "    </tr>\n",
       "    <tr>\n",
       "      <th>1</th>\n",
       "      <td>18-Feb-20</td>\n",
       "      <td>2724.39</td>\n",
       "      <td>2758.53</td>\n",
       "      <td>2644.85</td>\n",
       "      <td>2757.18</td>\n",
       "      <td>705,943,000</td>\n",
       "      <td>44,890,700,000</td>\n",
       "    </tr>\n",
       "    <tr>\n",
       "      <th>2</th>\n",
       "      <td>19-Feb-20</td>\n",
       "      <td>2807.02</td>\n",
       "      <td>2808.76</td>\n",
       "      <td>2692.80</td>\n",
       "      <td>2726.45</td>\n",
       "      <td>803,746,000</td>\n",
       "      <td>46,246,700,000</td>\n",
       "    </tr>\n",
       "    <tr>\n",
       "      <th>3</th>\n",
       "      <td>20-Feb-20</td>\n",
       "      <td>2679.73</td>\n",
       "      <td>2897.45</td>\n",
       "      <td>2679.73</td>\n",
       "      <td>2809.01</td>\n",
       "      <td>1,380,100,000</td>\n",
       "      <td>44,144,400,000</td>\n",
       "    </tr>\n",
       "    <tr>\n",
       "      <th>4</th>\n",
       "      <td>21-Feb-20</td>\n",
       "      <td>2538.71</td>\n",
       "      <td>2693.32</td>\n",
       "      <td>2529.34</td>\n",
       "      <td>2671.78</td>\n",
       "      <td>789,104,000</td>\n",
       "      <td>41,816,500,000</td>\n",
       "    </tr>\n",
       "  </tbody>\n",
       "</table>\n",
       "</div>"
      ],
      "text/plain": [
       "        Date     Open     High      Low    Close         Volume  \\\n",
       "0  17-Feb-20  2763.24  2889.62  2720.61  2875.34    860,575,000   \n",
       "1  18-Feb-20  2724.39  2758.53  2644.85  2757.18    705,943,000   \n",
       "2  19-Feb-20  2807.02  2808.76  2692.80  2726.45    803,746,000   \n",
       "3  20-Feb-20  2679.73  2897.45  2679.73  2809.01  1,380,100,000   \n",
       "4  21-Feb-20  2538.71  2693.32  2529.34  2671.78    789,104,000   \n",
       "\n",
       "       Market Cap  \n",
       "0  45,535,800,000  \n",
       "1  44,890,700,000  \n",
       "2  46,246,700,000  \n",
       "3  44,144,400,000  \n",
       "4  41,816,500,000  "
      ]
     },
     "execution_count": 14,
     "metadata": {},
     "output_type": "execute_result"
    }
   ],
   "source": [
    "df.head(5)"
   ]
  },
  {
   "cell_type": "code",
   "execution_count": 15,
   "id": "602de4bd-fc6b-41f2-81a7-944b9284593c",
   "metadata": {},
   "outputs": [
    {
     "data": {
      "text/plain": [
       "Index(['Date', 'Open', 'High', 'Low', 'Close', 'Volume', 'Market Cap'], dtype='object')"
      ]
     },
     "execution_count": 15,
     "metadata": {},
     "output_type": "execute_result"
    }
   ],
   "source": [
    "df.columns"
   ]
  },
  {
   "cell_type": "code",
   "execution_count": 16,
   "id": "f7dbf2e4-8b66-44d1-804d-1206fd79509a",
   "metadata": {},
   "outputs": [
    {
     "data": {
      "text/plain": [
       "(1556, 7)"
      ]
     },
     "execution_count": 16,
     "metadata": {},
     "output_type": "execute_result"
    }
   ],
   "source": [
    "df.shape"
   ]
  },
  {
   "cell_type": "code",
   "execution_count": 17,
   "id": "787be7b3-8cc8-4df8-980c-fa27f730c834",
   "metadata": {},
   "outputs": [
    {
     "name": "stdout",
     "output_type": "stream",
     "text": [
      "<class 'pandas.core.frame.DataFrame'>\n",
      "RangeIndex: 1556 entries, 0 to 1555\n",
      "Data columns (total 7 columns):\n",
      " #   Column      Non-Null Count  Dtype  \n",
      "---  ------      --------------  -----  \n",
      " 0   Date        1556 non-null   object \n",
      " 1   Open        1556 non-null   float64\n",
      " 2   High        1556 non-null   float64\n",
      " 3   Low         1556 non-null   float64\n",
      " 4   Close       1556 non-null   float64\n",
      " 5   Volume      1556 non-null   object \n",
      " 6   Market Cap  1556 non-null   object \n",
      "dtypes: float64(4), object(3)\n",
      "memory usage: 85.2+ KB\n"
     ]
    }
   ],
   "source": [
    "df.info()"
   ]
  },
  {
   "cell_type": "code",
   "execution_count": 18,
   "id": "28f3655a-d974-4430-b0a8-036d14f6e25e",
   "metadata": {},
   "outputs": [
    {
     "data": {
      "text/html": [
       "<div>\n",
       "<style scoped>\n",
       "    .dataframe tbody tr th:only-of-type {\n",
       "        vertical-align: middle;\n",
       "    }\n",
       "\n",
       "    .dataframe tbody tr th {\n",
       "        vertical-align: top;\n",
       "    }\n",
       "\n",
       "    .dataframe thead th {\n",
       "        text-align: right;\n",
       "    }\n",
       "</style>\n",
       "<table border=\"1\" class=\"dataframe\">\n",
       "  <thead>\n",
       "    <tr style=\"text-align: right;\">\n",
       "      <th></th>\n",
       "      <th>count</th>\n",
       "      <th>mean</th>\n",
       "      <th>std</th>\n",
       "      <th>min</th>\n",
       "      <th>25%</th>\n",
       "      <th>50%</th>\n",
       "      <th>75%</th>\n",
       "      <th>max</th>\n",
       "    </tr>\n",
       "  </thead>\n",
       "  <tbody>\n",
       "    <tr>\n",
       "      <th>Open</th>\n",
       "      <td>1556.0</td>\n",
       "      <td>582.625328</td>\n",
       "      <td>523.137312</td>\n",
       "      <td>68.50</td>\n",
       "      <td>254.2875</td>\n",
       "      <td>438.600</td>\n",
       "      <td>662.4375</td>\n",
       "      <td>2953.22</td>\n",
       "    </tr>\n",
       "    <tr>\n",
       "      <th>High</th>\n",
       "      <td>1556.0</td>\n",
       "      <td>597.992847</td>\n",
       "      <td>542.992855</td>\n",
       "      <td>74.56</td>\n",
       "      <td>260.3275</td>\n",
       "      <td>447.560</td>\n",
       "      <td>674.5250</td>\n",
       "      <td>2999.91</td>\n",
       "    </tr>\n",
       "    <tr>\n",
       "      <th>Low</th>\n",
       "      <td>1556.0</td>\n",
       "      <td>567.851446</td>\n",
       "      <td>505.877401</td>\n",
       "      <td>65.53</td>\n",
       "      <td>248.8350</td>\n",
       "      <td>430.570</td>\n",
       "      <td>646.7350</td>\n",
       "      <td>2840.53</td>\n",
       "    </tr>\n",
       "    <tr>\n",
       "      <th>Close</th>\n",
       "      <td>1556.0</td>\n",
       "      <td>584.239396</td>\n",
       "      <td>525.904442</td>\n",
       "      <td>68.43</td>\n",
       "      <td>254.3200</td>\n",
       "      <td>438.855</td>\n",
       "      <td>663.4025</td>\n",
       "      <td>2958.11</td>\n",
       "    </tr>\n",
       "  </tbody>\n",
       "</table>\n",
       "</div>"
      ],
      "text/plain": [
       "        count        mean         std    min       25%      50%       75%  \\\n",
       "Open   1556.0  582.625328  523.137312  68.50  254.2875  438.600  662.4375   \n",
       "High   1556.0  597.992847  542.992855  74.56  260.3275  447.560  674.5250   \n",
       "Low    1556.0  567.851446  505.877401  65.53  248.8350  430.570  646.7350   \n",
       "Close  1556.0  584.239396  525.904442  68.43  254.3200  438.855  663.4025   \n",
       "\n",
       "           max  \n",
       "Open   2953.22  \n",
       "High   2999.91  \n",
       "Low    2840.53  \n",
       "Close  2958.11  "
      ]
     },
     "execution_count": 18,
     "metadata": {},
     "output_type": "execute_result"
    }
   ],
   "source": [
    "df.describe().T"
   ]
  },
  {
   "cell_type": "code",
   "execution_count": null,
   "id": "652c0ea8-f029-4fdb-b897-e72a77786018",
   "metadata": {},
   "outputs": [],
   "source": []
  },
  {
   "cell_type": "markdown",
   "id": "3eadc0d3-682e-40e5-a573-ea6908f6f3ce",
   "metadata": {
    "jp-MarkdownHeadingCollapsed": true
   },
   "source": [
    "### 2..Doing data pre-processing!!\n",
    "    Check whether data-types are correct or not \n",
    "    check whether Data have missing value or not \n",
    "    check whether data have duplicate entries or not !"
   ]
  },
  {
   "cell_type": "code",
   "execution_count": 19,
   "id": "530cdba9-5d3b-4ed4-a287-690396c6a93b",
   "metadata": {},
   "outputs": [
    {
     "data": {
      "text/plain": [
       "Date           object\n",
       "Open          float64\n",
       "High          float64\n",
       "Low           float64\n",
       "Close         float64\n",
       "Volume         object\n",
       "Market Cap     object\n",
       "dtype: object"
      ]
     },
     "execution_count": 19,
     "metadata": {},
     "output_type": "execute_result"
    }
   ],
   "source": [
    "df.dtypes"
   ]
  },
  {
   "cell_type": "code",
   "execution_count": null,
   "id": "35467790-602e-4966-b7dc-461e55d8c588",
   "metadata": {},
   "outputs": [],
   "source": [
    "'''\n",
    "pandas Data Type for Time-Series : \n",
    "    a ) datetime64[ns]\n",
    "    datetime64[ns] is a 64 bit number ie it uses/occupies 64 bits or 8-Bytes in computer memory to store datetime value ..\n",
    "\n",
    "    b ) datetime64[ns, tz]\n",
    "\n",
    "    c ) datetime64[ns, UTC]\n",
    "    \n",
    "    d ) dtype('<M8[ns]') or dtype('>M8[ns]')\n",
    "    \n",
    " M is a type character code for Datetime\n",
    " 8 represents element byte length, data size ie 8-byte or 64 bit \n",
    "    where UTC = Coordinated Universal Time\n",
    "          ns  = nano second\n",
    "          tz  = time zone\n",
    "'''"
   ]
  },
  {
   "cell_type": "code",
   "execution_count": 20,
   "id": "1cfa3669-448c-476c-b437-fc3262ab030b",
   "metadata": {},
   "outputs": [],
   "source": [
    "### convert feature into date-time\n",
    "## pd.to_datetime()\n",
    "df['Date'] = df['Date'].astype('datetime64[ns]')"
   ]
  },
  {
   "cell_type": "code",
   "execution_count": 21,
   "id": "9c013a30-8e35-4db5-85b2-6a014737c4f3",
   "metadata": {},
   "outputs": [
    {
     "data": {
      "text/plain": [
       "Timestamp('2020-02-17 00:00:00')"
      ]
     },
     "execution_count": 21,
     "metadata": {},
     "output_type": "execute_result"
    }
   ],
   "source": [
    "df['Date'].min()"
   ]
  },
  {
   "cell_type": "code",
   "execution_count": 22,
   "id": "ac3f4f9c-5d96-481f-8388-ab933ea39d05",
   "metadata": {},
   "outputs": [
    {
     "data": {
      "text/plain": [
       "Timestamp('2024-05-21 00:00:00')"
      ]
     },
     "execution_count": 22,
     "metadata": {},
     "output_type": "execute_result"
    }
   ],
   "source": [
    "df['Date'].max()"
   ]
  },
  {
   "cell_type": "code",
   "execution_count": null,
   "id": "09f56c2e-9a1d-4696-a5da-648e8c986e28",
   "metadata": {},
   "outputs": [],
   "source": [
    "'''\n",
    "\n",
    "i.e, data is collected from \"17th Febreury 2020\" to \"21st May 2024\"\n",
    "\n",
    "'''"
   ]
  },
  {
   "cell_type": "code",
   "execution_count": 23,
   "id": "4b3841d5-a140-4e0a-b549-3ac683ea5322",
   "metadata": {},
   "outputs": [
    {
     "data": {
      "text/plain": [
       "0      2020-02-17\n",
       "1      2020-02-18\n",
       "2      2020-02-19\n",
       "3      2020-02-20\n",
       "4      2020-02-21\n",
       "          ...    \n",
       "1551   2024-05-17\n",
       "1552   2024-05-18\n",
       "1553   2024-05-19\n",
       "1554   2024-05-20\n",
       "1555   2024-05-21\n",
       "Name: Date, Length: 1556, dtype: datetime64[ns]"
      ]
     },
     "execution_count": 23,
     "metadata": {},
     "output_type": "execute_result"
    }
   ],
   "source": [
    "df['Date']"
   ]
  },
  {
   "cell_type": "code",
   "execution_count": 24,
   "id": "127fa2ce-098f-4650-9697-d918cdee8e66",
   "metadata": {},
   "outputs": [
    {
     "data": {
      "text/plain": [
       "pandas._libs.tslibs.timestamps.Timestamp"
      ]
     },
     "execution_count": 24,
     "metadata": {},
     "output_type": "execute_result"
    }
   ],
   "source": [
    "type(df['Date'][0])\n",
    "\n",
    "### i.e, Timestamp is a Scaler Class .."
   ]
  },
  {
   "cell_type": "code",
   "execution_count": 25,
   "id": "2deed620-0b32-4def-9b1a-14712ee822e8",
   "metadata": {},
   "outputs": [
    {
     "data": {
      "text/plain": [
       "Date          0\n",
       "Open          0\n",
       "High          0\n",
       "Low           0\n",
       "Close         0\n",
       "Volume        0\n",
       "Market Cap    0\n",
       "dtype: int64"
      ]
     },
     "execution_count": 25,
     "metadata": {},
     "output_type": "execute_result"
    }
   ],
   "source": [
    "df.isnull().sum() \n",
    "## check whether we have missing value or not !"
   ]
  },
  {
   "cell_type": "code",
   "execution_count": 26,
   "id": "38c1c713-914a-4f08-ae4a-9cce4d1b85e3",
   "metadata": {},
   "outputs": [
    {
     "data": {
      "text/plain": [
       "np.int64(0)"
      ]
     },
     "execution_count": 26,
     "metadata": {},
     "output_type": "execute_result"
    }
   ],
   "source": [
    "df.duplicated().sum()  \n",
    "## No duplicated value .."
   ]
  },
  {
   "cell_type": "markdown",
   "id": "40a4e15b-e233-472a-93c1-731987629bb6",
   "metadata": {},
   "source": [
    "#### Now sorting the data from oldest to recent"
   ]
  },
  {
   "cell_type": "code",
   "execution_count": 27,
   "id": "6617f322-14ea-4b0c-af99-040ff0c245f7",
   "metadata": {},
   "outputs": [
    {
     "data": {
      "text/html": [
       "<div>\n",
       "<style scoped>\n",
       "    .dataframe tbody tr th:only-of-type {\n",
       "        vertical-align: middle;\n",
       "    }\n",
       "\n",
       "    .dataframe tbody tr th {\n",
       "        vertical-align: top;\n",
       "    }\n",
       "\n",
       "    .dataframe thead th {\n",
       "        text-align: right;\n",
       "    }\n",
       "</style>\n",
       "<table border=\"1\" class=\"dataframe\">\n",
       "  <thead>\n",
       "    <tr style=\"text-align: right;\">\n",
       "      <th></th>\n",
       "      <th>Date</th>\n",
       "      <th>Open</th>\n",
       "      <th>High</th>\n",
       "      <th>Low</th>\n",
       "      <th>Close</th>\n",
       "      <th>Volume</th>\n",
       "      <th>Market Cap</th>\n",
       "    </tr>\n",
       "  </thead>\n",
       "  <tbody>\n",
       "    <tr>\n",
       "      <th>0</th>\n",
       "      <td>2020-02-17</td>\n",
       "      <td>2763.24</td>\n",
       "      <td>2889.62</td>\n",
       "      <td>2720.61</td>\n",
       "      <td>2875.34</td>\n",
       "      <td>860,575,000</td>\n",
       "      <td>45,535,800,000</td>\n",
       "    </tr>\n",
       "    <tr>\n",
       "      <th>1</th>\n",
       "      <td>2020-02-18</td>\n",
       "      <td>2724.39</td>\n",
       "      <td>2758.53</td>\n",
       "      <td>2644.85</td>\n",
       "      <td>2757.18</td>\n",
       "      <td>705,943,000</td>\n",
       "      <td>44,890,700,000</td>\n",
       "    </tr>\n",
       "    <tr>\n",
       "      <th>2</th>\n",
       "      <td>2020-02-19</td>\n",
       "      <td>2807.02</td>\n",
       "      <td>2808.76</td>\n",
       "      <td>2692.80</td>\n",
       "      <td>2726.45</td>\n",
       "      <td>803,746,000</td>\n",
       "      <td>46,246,700,000</td>\n",
       "    </tr>\n",
       "  </tbody>\n",
       "</table>\n",
       "</div>"
      ],
      "text/plain": [
       "        Date     Open     High      Low    Close       Volume      Market Cap\n",
       "0 2020-02-17  2763.24  2889.62  2720.61  2875.34  860,575,000  45,535,800,000\n",
       "1 2020-02-18  2724.39  2758.53  2644.85  2757.18  705,943,000  44,890,700,000\n",
       "2 2020-02-19  2807.02  2808.76  2692.80  2726.45  803,746,000  46,246,700,000"
      ]
     },
     "execution_count": 27,
     "metadata": {},
     "output_type": "execute_result"
    }
   ],
   "source": [
    "df.head(3)"
   ]
  },
  {
   "cell_type": "code",
   "execution_count": 28,
   "id": "235d11da-9f6a-4bc0-bafc-849aa2391aef",
   "metadata": {},
   "outputs": [
    {
     "data": {
      "text/html": [
       "<div>\n",
       "<style scoped>\n",
       "    .dataframe tbody tr th:only-of-type {\n",
       "        vertical-align: middle;\n",
       "    }\n",
       "\n",
       "    .dataframe tbody tr th {\n",
       "        vertical-align: top;\n",
       "    }\n",
       "\n",
       "    .dataframe thead th {\n",
       "        text-align: right;\n",
       "    }\n",
       "</style>\n",
       "<table border=\"1\" class=\"dataframe\">\n",
       "  <thead>\n",
       "    <tr style=\"text-align: right;\">\n",
       "      <th></th>\n",
       "      <th>Date</th>\n",
       "      <th>Open</th>\n",
       "      <th>High</th>\n",
       "      <th>Low</th>\n",
       "      <th>Close</th>\n",
       "      <th>Volume</th>\n",
       "      <th>Market Cap</th>\n",
       "    </tr>\n",
       "  </thead>\n",
       "  <tbody>\n",
       "    <tr>\n",
       "      <th>1553</th>\n",
       "      <td>2024-05-19</td>\n",
       "      <td>144.00</td>\n",
       "      <td>146.93</td>\n",
       "      <td>134.05</td>\n",
       "      <td>139.00</td>\n",
       "      <td>-</td>\n",
       "      <td>1,597,780,000</td>\n",
       "    </tr>\n",
       "    <tr>\n",
       "      <th>1554</th>\n",
       "      <td>2024-05-20</td>\n",
       "      <td>134.44</td>\n",
       "      <td>147.49</td>\n",
       "      <td>134.00</td>\n",
       "      <td>144.54</td>\n",
       "      <td>-</td>\n",
       "      <td>1,491,160,000</td>\n",
       "    </tr>\n",
       "    <tr>\n",
       "      <th>1555</th>\n",
       "      <td>2024-05-21</td>\n",
       "      <td>135.30</td>\n",
       "      <td>135.98</td>\n",
       "      <td>132.10</td>\n",
       "      <td>134.21</td>\n",
       "      <td>-</td>\n",
       "      <td>1,500,520,000</td>\n",
       "    </tr>\n",
       "  </tbody>\n",
       "</table>\n",
       "</div>"
      ],
      "text/plain": [
       "           Date    Open    High     Low   Close Volume     Market Cap\n",
       "1553 2024-05-19  144.00  146.93  134.05  139.00      -  1,597,780,000\n",
       "1554 2024-05-20  134.44  147.49  134.00  144.54      -  1,491,160,000\n",
       "1555 2024-05-21  135.30  135.98  132.10  134.21      -  1,500,520,000"
      ]
     },
     "execution_count": 28,
     "metadata": {},
     "output_type": "execute_result"
    }
   ],
   "source": [
    "df.tail(3)"
   ]
  },
  {
   "cell_type": "code",
   "execution_count": 30,
   "id": "79e316b0-62ad-415a-9a73-fe9e82e067e2",
   "metadata": {},
   "outputs": [
    {
     "data": {
      "text/html": [
       "<div>\n",
       "<style scoped>\n",
       "    .dataframe tbody tr th:only-of-type {\n",
       "        vertical-align: middle;\n",
       "    }\n",
       "\n",
       "    .dataframe tbody tr th {\n",
       "        vertical-align: top;\n",
       "    }\n",
       "\n",
       "    .dataframe thead th {\n",
       "        text-align: right;\n",
       "    }\n",
       "</style>\n",
       "<table border=\"1\" class=\"dataframe\">\n",
       "  <thead>\n",
       "    <tr style=\"text-align: right;\">\n",
       "      <th></th>\n",
       "      <th>index</th>\n",
       "      <th>Date</th>\n",
       "      <th>Open</th>\n",
       "      <th>High</th>\n",
       "      <th>Low</th>\n",
       "      <th>Close</th>\n",
       "      <th>Volume</th>\n",
       "      <th>Market Cap</th>\n",
       "    </tr>\n",
       "  </thead>\n",
       "  <tbody>\n",
       "    <tr>\n",
       "      <th>0</th>\n",
       "      <td>1555</td>\n",
       "      <td>2024-05-21</td>\n",
       "      <td>135.30</td>\n",
       "      <td>135.98</td>\n",
       "      <td>132.10</td>\n",
       "      <td>134.21</td>\n",
       "      <td>-</td>\n",
       "      <td>1,500,520,000</td>\n",
       "    </tr>\n",
       "    <tr>\n",
       "      <th>1</th>\n",
       "      <td>1554</td>\n",
       "      <td>2024-05-20</td>\n",
       "      <td>134.44</td>\n",
       "      <td>147.49</td>\n",
       "      <td>134.00</td>\n",
       "      <td>144.54</td>\n",
       "      <td>-</td>\n",
       "      <td>1,491,160,000</td>\n",
       "    </tr>\n",
       "    <tr>\n",
       "      <th>2</th>\n",
       "      <td>1553</td>\n",
       "      <td>2024-05-19</td>\n",
       "      <td>144.00</td>\n",
       "      <td>146.93</td>\n",
       "      <td>134.05</td>\n",
       "      <td>139.00</td>\n",
       "      <td>-</td>\n",
       "      <td>1,597,780,000</td>\n",
       "    </tr>\n",
       "    <tr>\n",
       "      <th>3</th>\n",
       "      <td>1552</td>\n",
       "      <td>2024-05-18</td>\n",
       "      <td>139.00</td>\n",
       "      <td>139.89</td>\n",
       "      <td>107.72</td>\n",
       "      <td>116.99</td>\n",
       "      <td>-</td>\n",
       "      <td>1,542,820,000</td>\n",
       "    </tr>\n",
       "    <tr>\n",
       "      <th>4</th>\n",
       "      <td>1551</td>\n",
       "      <td>2024-05-17</td>\n",
       "      <td>116.38</td>\n",
       "      <td>125.60</td>\n",
       "      <td>92.28</td>\n",
       "      <td>105.21</td>\n",
       "      <td>-</td>\n",
       "      <td>1,292,190,000</td>\n",
       "    </tr>\n",
       "    <tr>\n",
       "      <th>...</th>\n",
       "      <td>...</td>\n",
       "      <td>...</td>\n",
       "      <td>...</td>\n",
       "      <td>...</td>\n",
       "      <td>...</td>\n",
       "      <td>...</td>\n",
       "      <td>...</td>\n",
       "      <td>...</td>\n",
       "    </tr>\n",
       "    <tr>\n",
       "      <th>1551</th>\n",
       "      <td>4</td>\n",
       "      <td>2020-02-21</td>\n",
       "      <td>2538.71</td>\n",
       "      <td>2693.32</td>\n",
       "      <td>2529.34</td>\n",
       "      <td>2671.78</td>\n",
       "      <td>789,104,000</td>\n",
       "      <td>41,816,500,000</td>\n",
       "    </tr>\n",
       "    <tr>\n",
       "      <th>1552</th>\n",
       "      <td>3</td>\n",
       "      <td>2020-02-20</td>\n",
       "      <td>2679.73</td>\n",
       "      <td>2897.45</td>\n",
       "      <td>2679.73</td>\n",
       "      <td>2809.01</td>\n",
       "      <td>1,380,100,000</td>\n",
       "      <td>44,144,400,000</td>\n",
       "    </tr>\n",
       "    <tr>\n",
       "      <th>1553</th>\n",
       "      <td>2</td>\n",
       "      <td>2020-02-19</td>\n",
       "      <td>2807.02</td>\n",
       "      <td>2808.76</td>\n",
       "      <td>2692.80</td>\n",
       "      <td>2726.45</td>\n",
       "      <td>803,746,000</td>\n",
       "      <td>46,246,700,000</td>\n",
       "    </tr>\n",
       "    <tr>\n",
       "      <th>1554</th>\n",
       "      <td>1</td>\n",
       "      <td>2020-02-18</td>\n",
       "      <td>2724.39</td>\n",
       "      <td>2758.53</td>\n",
       "      <td>2644.85</td>\n",
       "      <td>2757.18</td>\n",
       "      <td>705,943,000</td>\n",
       "      <td>44,890,700,000</td>\n",
       "    </tr>\n",
       "    <tr>\n",
       "      <th>1555</th>\n",
       "      <td>0</td>\n",
       "      <td>2020-02-17</td>\n",
       "      <td>2763.24</td>\n",
       "      <td>2889.62</td>\n",
       "      <td>2720.61</td>\n",
       "      <td>2875.34</td>\n",
       "      <td>860,575,000</td>\n",
       "      <td>45,535,800,000</td>\n",
       "    </tr>\n",
       "  </tbody>\n",
       "</table>\n",
       "<p>1556 rows × 8 columns</p>\n",
       "</div>"
      ],
      "text/plain": [
       "      index       Date     Open     High      Low    Close         Volume  \\\n",
       "0      1555 2024-05-21   135.30   135.98   132.10   134.21              -   \n",
       "1      1554 2024-05-20   134.44   147.49   134.00   144.54              -   \n",
       "2      1553 2024-05-19   144.00   146.93   134.05   139.00              -   \n",
       "3      1552 2024-05-18   139.00   139.89   107.72   116.99              -   \n",
       "4      1551 2024-05-17   116.38   125.60    92.28   105.21              -   \n",
       "...     ...        ...      ...      ...      ...      ...            ...   \n",
       "1551      4 2020-02-21  2538.71  2693.32  2529.34  2671.78    789,104,000   \n",
       "1552      3 2020-02-20  2679.73  2897.45  2679.73  2809.01  1,380,100,000   \n",
       "1553      2 2020-02-19  2807.02  2808.76  2692.80  2726.45    803,746,000   \n",
       "1554      1 2020-02-18  2724.39  2758.53  2644.85  2757.18    705,943,000   \n",
       "1555      0 2020-02-17  2763.24  2889.62  2720.61  2875.34    860,575,000   \n",
       "\n",
       "          Market Cap  \n",
       "0      1,500,520,000  \n",
       "1      1,491,160,000  \n",
       "2      1,597,780,000  \n",
       "3      1,542,820,000  \n",
       "4      1,292,190,000  \n",
       "...              ...  \n",
       "1551  41,816,500,000  \n",
       "1552  44,144,400,000  \n",
       "1553  46,246,700,000  \n",
       "1554  44,890,700,000  \n",
       "1555  45,535,800,000  \n",
       "\n",
       "[1556 rows x 8 columns]"
      ]
     },
     "execution_count": 30,
     "metadata": {},
     "output_type": "execute_result"
    }
   ],
   "source": [
    "df.sort_index(ascending=False).reset_index()"
   ]
  },
  {
   "cell_type": "code",
   "execution_count": 31,
   "id": "8819a7b0-9f67-46e8-ae31-bcb35805924c",
   "metadata": {},
   "outputs": [],
   "source": [
    "data = df.sort_index(ascending=False).reset_index()"
   ]
  },
  {
   "cell_type": "code",
   "execution_count": null,
   "id": "809d2dc9-5438-467d-9176-19c783f3811d",
   "metadata": {},
   "outputs": [],
   "source": []
  },
  {
   "cell_type": "markdown",
   "id": "937aa13c-27e4-48d0-8e8d-309231c2b154",
   "metadata": {
    "jp-MarkdownHeadingCollapsed": true
   },
   "source": [
    "### 3..Analysing change in price of the stock overtime?"
   ]
  },
  {
   "cell_type": "code",
   "execution_count": 32,
   "id": "1319e07a-f20a-43e0-8821-99d673fcceea",
   "metadata": {},
   "outputs": [],
   "source": [
    "data.drop('index' , axis=1 , inplace=True)"
   ]
  },
  {
   "cell_type": "code",
   "execution_count": 33,
   "id": "9862c16f-7441-4059-aa24-140cb6401fd7",
   "metadata": {},
   "outputs": [
    {
     "data": {
      "text/html": [
       "<div>\n",
       "<style scoped>\n",
       "    .dataframe tbody tr th:only-of-type {\n",
       "        vertical-align: middle;\n",
       "    }\n",
       "\n",
       "    .dataframe tbody tr th {\n",
       "        vertical-align: top;\n",
       "    }\n",
       "\n",
       "    .dataframe thead th {\n",
       "        text-align: right;\n",
       "    }\n",
       "</style>\n",
       "<table border=\"1\" class=\"dataframe\">\n",
       "  <thead>\n",
       "    <tr style=\"text-align: right;\">\n",
       "      <th></th>\n",
       "      <th>Date</th>\n",
       "      <th>Open</th>\n",
       "      <th>High</th>\n",
       "      <th>Low</th>\n",
       "      <th>Close</th>\n",
       "      <th>Volume</th>\n",
       "      <th>Market Cap</th>\n",
       "    </tr>\n",
       "  </thead>\n",
       "  <tbody>\n",
       "    <tr>\n",
       "      <th>0</th>\n",
       "      <td>2024-05-21</td>\n",
       "      <td>135.30</td>\n",
       "      <td>135.98</td>\n",
       "      <td>132.10</td>\n",
       "      <td>134.21</td>\n",
       "      <td>-</td>\n",
       "      <td>1,500,520,000</td>\n",
       "    </tr>\n",
       "    <tr>\n",
       "      <th>1</th>\n",
       "      <td>2024-05-20</td>\n",
       "      <td>134.44</td>\n",
       "      <td>147.49</td>\n",
       "      <td>134.00</td>\n",
       "      <td>144.54</td>\n",
       "      <td>-</td>\n",
       "      <td>1,491,160,000</td>\n",
       "    </tr>\n",
       "    <tr>\n",
       "      <th>2</th>\n",
       "      <td>2024-05-19</td>\n",
       "      <td>144.00</td>\n",
       "      <td>146.93</td>\n",
       "      <td>134.05</td>\n",
       "      <td>139.00</td>\n",
       "      <td>-</td>\n",
       "      <td>1,597,780,000</td>\n",
       "    </tr>\n",
       "    <tr>\n",
       "      <th>3</th>\n",
       "      <td>2024-05-18</td>\n",
       "      <td>139.00</td>\n",
       "      <td>139.89</td>\n",
       "      <td>107.72</td>\n",
       "      <td>116.99</td>\n",
       "      <td>-</td>\n",
       "      <td>1,542,820,000</td>\n",
       "    </tr>\n",
       "    <tr>\n",
       "      <th>4</th>\n",
       "      <td>2024-05-17</td>\n",
       "      <td>116.38</td>\n",
       "      <td>125.60</td>\n",
       "      <td>92.28</td>\n",
       "      <td>105.21</td>\n",
       "      <td>-</td>\n",
       "      <td>1,292,190,000</td>\n",
       "    </tr>\n",
       "    <tr>\n",
       "      <th>...</th>\n",
       "      <td>...</td>\n",
       "      <td>...</td>\n",
       "      <td>...</td>\n",
       "      <td>...</td>\n",
       "      <td>...</td>\n",
       "      <td>...</td>\n",
       "      <td>...</td>\n",
       "    </tr>\n",
       "    <tr>\n",
       "      <th>1551</th>\n",
       "      <td>2020-02-21</td>\n",
       "      <td>2538.71</td>\n",
       "      <td>2693.32</td>\n",
       "      <td>2529.34</td>\n",
       "      <td>2671.78</td>\n",
       "      <td>789,104,000</td>\n",
       "      <td>41,816,500,000</td>\n",
       "    </tr>\n",
       "    <tr>\n",
       "      <th>1552</th>\n",
       "      <td>2020-02-20</td>\n",
       "      <td>2679.73</td>\n",
       "      <td>2897.45</td>\n",
       "      <td>2679.73</td>\n",
       "      <td>2809.01</td>\n",
       "      <td>1,380,100,000</td>\n",
       "      <td>44,144,400,000</td>\n",
       "    </tr>\n",
       "    <tr>\n",
       "      <th>1553</th>\n",
       "      <td>2020-02-19</td>\n",
       "      <td>2807.02</td>\n",
       "      <td>2808.76</td>\n",
       "      <td>2692.80</td>\n",
       "      <td>2726.45</td>\n",
       "      <td>803,746,000</td>\n",
       "      <td>46,246,700,000</td>\n",
       "    </tr>\n",
       "    <tr>\n",
       "      <th>1554</th>\n",
       "      <td>2020-02-18</td>\n",
       "      <td>2724.39</td>\n",
       "      <td>2758.53</td>\n",
       "      <td>2644.85</td>\n",
       "      <td>2757.18</td>\n",
       "      <td>705,943,000</td>\n",
       "      <td>44,890,700,000</td>\n",
       "    </tr>\n",
       "    <tr>\n",
       "      <th>1555</th>\n",
       "      <td>2020-02-17</td>\n",
       "      <td>2763.24</td>\n",
       "      <td>2889.62</td>\n",
       "      <td>2720.61</td>\n",
       "      <td>2875.34</td>\n",
       "      <td>860,575,000</td>\n",
       "      <td>45,535,800,000</td>\n",
       "    </tr>\n",
       "  </tbody>\n",
       "</table>\n",
       "<p>1556 rows × 7 columns</p>\n",
       "</div>"
      ],
      "text/plain": [
       "           Date     Open     High      Low    Close         Volume  \\\n",
       "0    2024-05-21   135.30   135.98   132.10   134.21              -   \n",
       "1    2024-05-20   134.44   147.49   134.00   144.54              -   \n",
       "2    2024-05-19   144.00   146.93   134.05   139.00              -   \n",
       "3    2024-05-18   139.00   139.89   107.72   116.99              -   \n",
       "4    2024-05-17   116.38   125.60    92.28   105.21              -   \n",
       "...         ...      ...      ...      ...      ...            ...   \n",
       "1551 2020-02-21  2538.71  2693.32  2529.34  2671.78    789,104,000   \n",
       "1552 2020-02-20  2679.73  2897.45  2679.73  2809.01  1,380,100,000   \n",
       "1553 2020-02-19  2807.02  2808.76  2692.80  2726.45    803,746,000   \n",
       "1554 2020-02-18  2724.39  2758.53  2644.85  2757.18    705,943,000   \n",
       "1555 2020-02-17  2763.24  2889.62  2720.61  2875.34    860,575,000   \n",
       "\n",
       "          Market Cap  \n",
       "0      1,500,520,000  \n",
       "1      1,491,160,000  \n",
       "2      1,597,780,000  \n",
       "3      1,542,820,000  \n",
       "4      1,292,190,000  \n",
       "...              ...  \n",
       "1551  41,816,500,000  \n",
       "1552  44,144,400,000  \n",
       "1553  46,246,700,000  \n",
       "1554  44,890,700,000  \n",
       "1555  45,535,800,000  \n",
       "\n",
       "[1556 rows x 7 columns]"
      ]
     },
     "execution_count": 33,
     "metadata": {},
     "output_type": "execute_result"
    }
   ],
   "source": [
    "data"
   ]
  },
  {
   "cell_type": "code",
   "execution_count": 34,
   "id": "4a646cbb-2730-44df-99be-e37c7e6fe709",
   "metadata": {},
   "outputs": [
    {
     "data": {
      "text/plain": [
       "Index(['Date', 'Open', 'High', 'Low', 'Close', 'Volume', 'Market Cap'], dtype='object')"
      ]
     },
     "execution_count": 34,
     "metadata": {},
     "output_type": "execute_result"
    }
   ],
   "source": [
    "data.columns"
   ]
  },
  {
   "cell_type": "code",
   "execution_count": 35,
   "id": "616da075-5d69-4559-87d3-376b68d14f23",
   "metadata": {},
   "outputs": [
    {
     "data": {
      "image/png": "[encoded data removed]",
      "text/plain": [
       "<Figure size 2000x1200 with 4 Axes>"
      ]
     },
     "metadata": {},
     "output_type": "display_data"
    }
   ],
   "source": [
    "plt.figure(figsize=(20,12))\n",
    "\n",
    "for index , col in enumerate(['Open', 'High', 'Low', 'Close'] , 1):\n",
    "    plt.subplot(2,2,index)\n",
    "    plt.plot(df['Date'] , df[col])\n",
    "    plt.title(col)"
   ]
  },
  {
   "cell_type": "code",
   "execution_count": null,
   "id": "bc7d531b-092b-4551-811d-146df1ea9884",
   "metadata": {},
   "outputs": [],
   "source": []
  },
  {
   "cell_type": "markdown",
   "id": "eabe1181-10fd-42cf-ab67-cdd5db549734",
   "metadata": {
    "jp-MarkdownHeadingCollapsed": true
   },
   "source": [
    "### 4..Analysing open, high, low and close value of Bitcoin!!"
   ]
  },
  {
   "cell_type": "code",
   "execution_count": 36,
   "id": "8edb82c1-ba34-4688-a7b3-de2c949daf9d",
   "metadata": {},
   "outputs": [
    {
     "data": {
      "text/plain": [
       "(1556, 7)"
      ]
     },
     "execution_count": 36,
     "metadata": {},
     "output_type": "execute_result"
    }
   ],
   "source": [
    "data.shape"
   ]
  },
  {
   "cell_type": "code",
   "execution_count": 37,
   "id": "a3af033e-0a9e-425f-80ae-10127fdf769b",
   "metadata": {},
   "outputs": [],
   "source": [
    "bitcoin_sample = data[0:50]"
   ]
  },
  {
   "cell_type": "code",
   "execution_count": 38,
   "id": "24fef78f-4ce0-4857-bc76-475b7f3aa401",
   "metadata": {},
   "outputs": [],
   "source": [
    "### Lets do proper setup of Plotly so that we can leverage power of Plotly & Cufflinks .."
   ]
  },
  {
   "cell_type": "code",
   "execution_count": 39,
   "id": "d54fec4a-d123-4f84-a747-2a4706177131",
   "metadata": {},
   "outputs": [
    {
     "name": "stdout",
     "output_type": "stream",
     "text": [
      "Defaulting to user installation because normal site-packages is not writeable\n",
      "Collecting chart-studio\n",
      "  Downloading chart_studio-1.1.0-py3-none-any.whl.metadata (1.3 kB)\n",
      "Collecting plotly (from chart-studio)\n",
      "  Downloading plotly-6.0.1-py3-none-any.whl.metadata (6.7 kB)\n",
      "Requirement already satisfied: requests in c:\\users\\chandu.v01\\appdata\\roaming\\python\\python313\\site-packages (from chart-studio) (2.32.3)\n",
      "Collecting retrying>=1.3.3 (from chart-studio)\n",
      "  Downloading retrying-1.3.4-py3-none-any.whl.metadata (6.9 kB)\n",
      "Requirement already satisfied: six in c:\\users\\chandu.v01\\appdata\\roaming\\python\\python313\\site-packages (from chart-studio) (1.17.0)\n",
      "Collecting narwhals>=1.15.1 (from plotly->chart-studio)\n",
      "  Downloading narwhals-1.36.0-py3-none-any.whl.metadata (9.2 kB)\n",
      "Requirement already satisfied: packaging in c:\\users\\chandu.v01\\appdata\\roaming\\python\\python313\\site-packages (from plotly->chart-studio) (24.2)\n",
      "Requirement already satisfied: charset-normalizer<4,>=2 in c:\\users\\chandu.v01\\appdata\\roaming\\python\\python313\\site-packages (from requests->chart-studio) (3.4.0)\n",
      "Requirement already satisfied: idna<4,>=2.5 in c:\\users\\chandu.v01\\appdata\\roaming\\python\\python313\\site-packages (from requests->chart-studio) (3.10)\n",
      "Requirement already satisfied: urllib3<3,>=1.21.1 in c:\\users\\chandu.v01\\appdata\\roaming\\python\\python313\\site-packages (from requests->chart-studio) (2.2.3)\n",
      "Requirement already satisfied: certifi>=2017.4.17 in c:\\users\\chandu.v01\\appdata\\roaming\\python\\python313\\site-packages (from requests->chart-studio) (2024.8.30)\n",
      "Downloading chart_studio-1.1.0-py3-none-any.whl (64 kB)\n",
      "Downloading retrying-1.3.4-py3-none-any.whl (11 kB)\n",
      "Downloading plotly-6.0.1-py3-none-any.whl (14.8 MB)\n",
      "   ---------------------------------------- 0.0/14.8 MB ? eta -:--:--\n",
      "   ------ --------------------------------- 2.4/14.8 MB 13.5 MB/s eta 0:00:01\n",
      "   -------------- ------------------------- 5.5/14.8 MB 15.7 MB/s eta 0:00:01\n",
      "   ---------------- ----------------------- 6.3/14.8 MB 14.7 MB/s eta 0:00:01\n",
      "   ----------------- ---------------------- 6.6/14.8 MB 7.9 MB/s eta 0:00:02\n",
      "   ------------------ --------------------- 6.8/14.8 MB 6.6 MB/s eta 0:00:02\n",
      "   ------------------- -------------------- 7.1/14.8 MB 6.0 MB/s eta 0:00:02\n",
      "   -------------------- ------------------- 7.6/14.8 MB 5.5 MB/s eta 0:00:02\n",
      "   ---------------------- ----------------- 8.4/14.8 MB 5.0 MB/s eta 0:00:02\n",
      "   ------------------------ --------------- 9.2/14.8 MB 4.9 MB/s eta 0:00:02\n",
      "   --------------------------- ------------ 10.2/14.8 MB 4.9 MB/s eta 0:00:01\n",
      "   ------------------------------ --------- 11.3/14.8 MB 4.9 MB/s eta 0:00:01\n",
      "   --------------------------------- ------ 12.6/14.8 MB 5.0 MB/s eta 0:00:01\n",
      "   ------------------------------------- -- 13.9/14.8 MB 5.1 MB/s eta 0:00:01\n",
      "   ---------------------------------------  14.7/14.8 MB 5.1 MB/s eta 0:00:01\n",
      "   ---------------------------------------- 14.8/14.8 MB 4.7 MB/s eta 0:00:00\n",
      "Downloading narwhals-1.36.0-py3-none-any.whl (331 kB)\n",
      "Installing collected packages: retrying, narwhals, plotly, chart-studio\n",
      "Successfully installed chart-studio-1.1.0 narwhals-1.36.0 plotly-6.0.1 retrying-1.3.4\n",
      "Defaulting to user installation because normal site-packages is not writeable\n",
      "Requirement already satisfied: plotly in c:\\users\\chandu.v01\\appdata\\roaming\\python\\python313\\site-packages (6.0.1)\n",
      "Requirement already satisfied: narwhals>=1.15.1 in c:\\users\\chandu.v01\\appdata\\roaming\\python\\python313\\site-packages (from plotly) (1.36.0)\n",
      "Requirement already satisfied: packaging in c:\\users\\chandu.v01\\appdata\\roaming\\python\\python313\\site-packages (from plotly) (24.2)\n"
     ]
    }
   ],
   "source": [
    "!pip install chart-studio\n",
    "!pip install plotly"
   ]
  },
  {
   "cell_type": "code",
   "execution_count": 40,
   "id": "4652858d-691e-4bfc-b72b-83db921f84a6",
   "metadata": {},
   "outputs": [],
   "source": [
    "import chart_studio.plotly as py\n",
    "import plotly.graph_objs as go\n",
    "import plotly.express as px\n",
    "from plotly.offline import download_plotlyjs , init_notebook_mode , plot , iplot"
   ]
  },
  {
   "cell_type": "code",
   "execution_count": 41,
   "id": "179b9254-20ad-4da8-94a8-d91acf7ee4c7",
   "metadata": {},
   "outputs": [
    {
     "data": {
      "text/html": [
       "        <script type=\"text/javascript\">\n",
       "        window.PlotlyConfig = {MathJaxConfig: 'local'};\n",
       "        if (window.MathJax && window.MathJax.Hub && window.MathJax.Hub.Config) {window.MathJax.Hub.Config({SVG: {font: \"STIX-Web\"}});}\n",
       "        </script>\n",
       "        <script type=\"module\">import \"https://cdn.plot.ly/plotly-3.0.1.min\"</script>\n",
       "        "
      ]
     },
     "metadata": {},
     "output_type": "display_data"
    }
   ],
   "source": [
    "init_notebook_mode(connected=True)"
   ]
  },
  {
   "cell_type": "code",
   "execution_count": 42,
   "id": "00b9c183-8485-4f98-9088-cade3c90e4ff",
   "metadata": {},
   "outputs": [],
   "source": [
    "trace = go.Candlestick(x=bitcoin_sample['Date'] , \n",
    "              high =bitcoin_sample['High'] , \n",
    "              open = bitcoin_sample['Open'] , \n",
    "              close = bitcoin_sample['Close'] , \n",
    "              low = bitcoin_sample['Low'])"
   ]
  },
  {
   "cell_type": "code",
   "execution_count": 43,
   "id": "5493a48e-0a01-4feb-8fc3-285a68003248",
   "metadata": {},
   "outputs": [],
   "source": [
    "candle_data = [trace]\n",
    "layout = {\n",
    "    'title':'Bitcoin Historical Price' , \n",
    "    'xaxis':{'title':'Date'}\n",
    "}"
   ]
  },
  {
   "cell_type": "code",
   "execution_count": 46,
   "id": "4bfa5254-5a79-4c54-b3a4-adf7c30486d1",
   "metadata": {},
   "outputs": [
    {
     "data": {
      "application/vnd.plotly.v1+json": {
       "config": {
        "plotlyServerURL": "https://plot.ly"
       },
       "data": [
        {
         "close": {
          "bdata": "H4XrUbjGYEDhehSuRxFiQAAAAAAAYGFAj8L1KFw/XUA9CtejcE1aQAAAAAAAcFhAAAAAAAAgXEAK16NwPfpcQDMzMzMzE1xAAAAAAADgW0AUrkfhemRcQHsUrkfhKlxAzczMzMxMXUCPwvUoXM9cQAAAAAAAwFxAH4XrUbh+XUAAAAAAAOBbQK5H4XoUjlxAcT0K16OwXUDhehSuR8FeQAAAAAAA4F5Aj8L1KFx/XkAAAAAAAIBeQLgehetRuF5AKVyPwvX4XkDNzMzMzKxfQGZmZmZmpmBAj8L1KFx/YECPwvUoXK9gQAAAAAAAOGBAAAAAAAAgYECamZmZmYlgQJqZmZmZGWBAAAAAAAAgYECamZmZmSlgQMP1KFyPkl5ArkfhehSOXkB7FK5H4VpeQJqZmZmZaV5AAAAAAACAXUAAAAAAAOBbQDMzMzMzE1tAAAAAAAAAWUBmZmZmZpZaQJqZmZmZOVtAmpmZmZkJW0AAAAAAAABaQB+F61G4/lhAj8L1KFz/WEBxPQrXo+BYQA==",
          "dtype": "f8"
         },
         "high": {
          "bdata": "j8L1KFz/YEBI4XoUrm9iQPYoXI/CXWJAFK5H4Xp8YUBmZmZmZmZfQLgehetRCFtAAAAAAADAXEAzMzMzM7NdQArXo3A9Kl9AXI/C9ShcXEBSuB6F6/FcQD0K16NwXVxAAAAAAACAXkDsUbgehatdQM3MzMzMXF1AzczMzMysXUAzMzMzM/NdQKRwPQrX81xAcT0K16OwXUAzMzMzM1NfQAAAAAAAUF9AAAAAAAAgX0BI4XoUrudeQAAAAAAAwF5AAAAAAAAAX0DsUbgehbtfQDMzMzMzu2BA16NwPQqnYEAAAAAAAABhQNejcD0K72BAw/UoXI9SYEB7FK5H4ZJgQAAAAAAAiGBAzczMzMw8YEApXI/C9ThgQM3MzMzMLGBAAAAAAACgXkD2KFyPwvVeQK5H4XoU3l5AZmZmZmbGXkAAAAAAAMBdQHsUrkfh2ltAj8L1KFw/W0BmZmZmZoZbQGZmZmZmZltAw/UoXI/yW0AzMzMzM5NbQM3MzMzMLFpAzczMzMzsWUBmZmZmZmZZQA==",
          "dtype": "f8"
         },
         "low": {
          "bdata": "MzMzMzODYEAAAAAAAMBgQJqZmZmZwWBArkfhehTuWkBSuB6F6xFXQGZmZmZmxlNAAAAAAAAgV0ApXI/C9chaQClcj8L1qFpAzczMzMxsWEBmZmZmZmZbQHE9CtejUFtAMzMzMzPjW0BxPQrXo0BcQFyPwvUoXFxAAAAAAACgXEAAAAAAAJBbQAAAAAAA4FlAzczMzMwMXEAUrkfheiRdQDMzMzMzk15AFK5H4XrkXUBI4XoUrgdeQD0K16NwTV5AAAAAAACAXkBmZmZmZsZeQK5H4XoUbl9AzczMzMwcYECkcD0K11NgQM3MzMzMLF9AZmZmZmZmX0AK16NwPepfQAAAAAAAwF9AmpmZmZmZX0DNzMzMzMxfQDMzMzMzw1xAAAAAAAAAXUBmZmZmZsZdQJqZmZmZ+V1AAAAAAABQXUB7FK5H4ZpaQDMzMzMz01pAAAAAAAAgVkAAAAAAAMBXQAAAAAAAAFpAH4XrUbiuWkBSuB6F6yFZQAAAAAAAgFhAAAAAAACAWEDNzMzMzLxYQA==",
          "dtype": "f8"
         },
         "open": {
          "bdata": "mpmZmZnpYECuR+F6FM5gQAAAAAAAAGJAAAAAAABgYUC4HoXrURhdQAAAAAAAkFpAZmZmZmaGWECamZmZmTlcQB+F61G4/lxAAAAAAAAQXEBmZmZmZmZbQM3MzMzMTFxAMzMzMzMzXEDNzMzMzGxdQClcj8L16FxAFK5H4Xq0XEAfhetRuH5dQJqZmZmZ2VtArkfhehSOXEA9CtejcI1dQAAAAAAA4F5APQrXo3DNXkAAAAAAAKBeQOF6FK5HgV5AKVyPwvW4XkAzMzMzM/NeQDMzMzMzk19AMzMzMzOjYEBI4XoUrn9gQAAAAAAAsGBAcT0K16M4YEAAAAAAACBgQAAAAAAAiGBAmpmZmZkZYEBSuB6F6xlgQJqZmZmZKWBAAAAAAACgXkCPwvUoXC9eQJqZmZmZWV5AmpmZmZl5XkCuR+F6FL5dQAAAAAAAwFtAKVyPwvX4WkBcj8L1KBxZQGZmZmZmllpAAAAAAABAW0BSuB6F6zFbQM3MzMzM/FlAAAAAAAAAWUAzMzMzM/NYQA==",
          "dtype": "f8"
         },
         "type": "candlestick",
         "x": [
          "2024-05-21T00:00:00.000000000",
          "2024-05-20T00:00:00.000000000",
          "2024-05-19T00:00:00.000000000",
          "2024-05-18T00:00:00.000000000",
          "2024-05-17T00:00:00.000000000",
          "2024-05-16T00:00:00.000000000",
          "2024-05-15T00:00:00.000000000",
          "2024-05-14T00:00:00.000000000",
          "2024-05-13T00:00:00.000000000",
          "2024-05-12T00:00:00.000000000",
          "2024-05-11T00:00:00.000000000",
          "2024-05-10T00:00:00.000000000",
          "2024-05-09T00:00:00.000000000",
          "2024-05-08T00:00:00.000000000",
          "2024-05-07T00:00:00.000000000",
          "2024-05-06T00:00:00.000000000",
          "2024-05-05T00:00:00.000000000",
          "2024-05-04T00:00:00.000000000",
          "2024-05-03T00:00:00.000000000",
          "2024-05-02T00:00:00.000000000",
          "2024-05-01T00:00:00.000000000",
          "2024-04-30T00:00:00.000000000",
          "2024-04-29T00:00:00.000000000",
          "2024-04-28T00:00:00.000000000",
          "2024-04-27T00:00:00.000000000",
          "2024-04-26T00:00:00.000000000",
          "2024-04-25T00:00:00.000000000",
          "2024-04-24T00:00:00.000000000",
          "2024-04-23T00:00:00.000000000",
          "2024-04-22T00:00:00.000000000",
          "2024-04-21T00:00:00.000000000",
          "2024-04-20T00:00:00.000000000",
          "2024-04-19T00:00:00.000000000",
          "2024-04-18T00:00:00.000000000",
          "2024-04-17T00:00:00.000000000",
          "2024-04-16T00:00:00.000000000",
          "2024-04-15T00:00:00.000000000",
          "2024-04-14T00:00:00.000000000",
          "2024-04-13T00:00:00.000000000",
          "2024-04-12T00:00:00.000000000",
          "2024-04-11T00:00:00.000000000",
          "2024-04-10T00:00:00.000000000",
          "2024-04-09T00:00:00.000000000",
          "2024-04-08T00:00:00.000000000",
          "2024-04-07T00:00:00.000000000",
          "2024-04-06T00:00:00.000000000",
          "2024-04-05T00:00:00.000000000",
          "2024-04-04T00:00:00.000000000",
          "2024-04-03T00:00:00.000000000",
          "2024-04-02T00:00:00.000000000"
         ]
        }
       ],
       "layout": {
        "template": {
         "data": {
          "bar": [
           {
            "error_x": {
             "color": "#2a3f5f"
            },
            "error_y": {
             "color": "#2a3f5f"
            },
            "marker": {
             "line": {
              "color": "#E5ECF6",
              "width": 0.5
             },
             "pattern": {
              "fillmode": "overlay",
              "size": 10,
              "solidity": 0.2
             }
            },
            "type": "bar"
           }
          ],
          "barpolar": [
           {
            "marker": {
             "line": {
              "color": "#E5ECF6",
              "width": 0.5
             },
             "pattern": {
              "fillmode": "overlay",
              "size": 10,
              "solidity": 0.2
             }
            },
            "type": "barpolar"
           }
          ],
          "carpet": [
           {
            "aaxis": {
             "endlinecolor": "#2a3f5f",
             "gridcolor": "white",
             "linecolor": "white",
             "minorgridcolor": "white",
             "startlinecolor": "#2a3f5f"
            },
            "baxis": {
             "endlinecolor": "#2a3f5f",
             "gridcolor": "white",
             "linecolor": "white",
             "minorgridcolor": "white",
             "startlinecolor": "#2a3f5f"
            },
            "type": "carpet"
           }
          ],
          "choropleth": [
           {
            "colorbar": {
             "outlinewidth": 0,
             "ticks": ""
            },
            "type": "choropleth"
           }
          ],
          "contour": [
           {
            "colorbar": {
             "outlinewidth": 0,
             "ticks": ""
            },
            "colorscale": [
             [
              0,
              "#0d0887"
             ],
             [
              0.1111111111111111,
              "#46039f"
             ],
             [
              0.2222222222222222,
              "#7201a8"
             ],
             [
              0.3333333333333333,
              "#9c179e"
             ],
             [
              0.4444444444444444,
              "#bd3786"
             ],
             [
              0.5555555555555556,
              "#d8576b"
             ],
             [
              0.6666666666666666,
              "#ed7953"
             ],
             [
              0.7777777777777778,
              "#fb9f3a"
             ],
             [
              0.8888888888888888,
              "#fdca26"
             ],
             [
              1,
              "#f0f921"
             ]
            ],
            "type": "contour"
           }
          ],
          "contourcarpet": [
           {
            "colorbar": {
             "outlinewidth": 0,
             "ticks": ""
            },
            "type": "contourcarpet"
           }
          ],
          "heatmap": [
           {
            "colorbar": {
             "outlinewidth": 0,
             "ticks": ""
            },
            "colorscale": [
             [
              0,
              "#0d0887"
             ],
             [
              0.1111111111111111,
              "#46039f"
             ],
             [
              0.2222222222222222,
              "#7201a8"
             ],
             [
              0.3333333333333333,
              "#9c179e"
             ],
             [
              0.4444444444444444,
              "#bd3786"
             ],
             [
              0.5555555555555556,
              "#d8576b"
             ],
             [
              0.6666666666666666,
              "#ed7953"
             ],
             [
              0.7777777777777778,
              "#fb9f3a"
             ],
             [
              0.8888888888888888,
              "#fdca26"
             ],
             [
              1,
              "#f0f921"
             ]
            ],
            "type": "heatmap"
           }
          ],
          "histogram": [
           {
            "marker": {
             "pattern": {
              "fillmode": "overlay",
              "size": 10,
              "solidity": 0.2
             }
            },
            "type": "histogram"
           }
          ],
          "histogram2d": [
           {
            "colorbar": {
             "outlinewidth": 0,
             "ticks": ""
            },
            "colorscale": [
             [
              0,
              "#0d0887"
             ],
             [
              0.1111111111111111,
              "#46039f"
             ],
             [
              0.2222222222222222,
              "#7201a8"
             ],
             [
              0.3333333333333333,
              "#9c179e"
             ],
             [
              0.4444444444444444,
              "#bd3786"
             ],
             [
              0.5555555555555556,
              "#d8576b"
             ],
             [
              0.6666666666666666,
              "#ed7953"
             ],
             [
              0.7777777777777778,
              "#fb9f3a"
             ],
             [
              0.8888888888888888,
              "#fdca26"
             ],
             [
              1,
              "#f0f921"
             ]
            ],
            "type": "histogram2d"
           }
          ],
          "histogram2dcontour": [
           {
            "colorbar": {
             "outlinewidth": 0,
             "ticks": ""
            },
            "colorscale": [
             [
              0,
              "#0d0887"
             ],
             [
              0.1111111111111111,
              "#46039f"
             ],
             [
              0.2222222222222222,
              "#7201a8"
             ],
             [
              0.3333333333333333,
              "#9c179e"
             ],
             [
              0.4444444444444444,
              "#bd3786"
             ],
             [
              0.5555555555555556,
              "#d8576b"
             ],
             [
              0.6666666666666666,
              "#ed7953"
             ],
             [
              0.7777777777777778,
              "#fb9f3a"
             ],
             [
              0.8888888888888888,
              "#fdca26"
             ],
             [
              1,
              "#f0f921"
             ]
            ],
            "type": "histogram2dcontour"
           }
          ],
          "mesh3d": [
           {
            "colorbar": {
             "outlinewidth": 0,
             "ticks": ""
            },
            "type": "mesh3d"
           }
          ],
          "parcoords": [
           {
            "line": {
             "colorbar": {
              "outlinewidth": 0,
              "ticks": ""
             }
            },
            "type": "parcoords"
           }
          ],
          "pie": [
           {
            "automargin": true,
            "type": "pie"
           }
          ],
          "scatter": [
           {
            "fillpattern": {
             "fillmode": "overlay",
             "size": 10,
             "solidity": 0.2
            },
            "type": "scatter"
           }
          ],
          "scatter3d": [
           {
            "line": {
             "colorbar": {
              "outlinewidth": 0,
              "ticks": ""
             }
            },
            "marker": {
             "colorbar": {
              "outlinewidth": 0,
              "ticks": ""
             }
            },
            "type": "scatter3d"
           }
          ],
          "scattercarpet": [
           {
            "marker": {
             "colorbar": {
              "outlinewidth": 0,
              "ticks": ""
             }
            },
            "type": "scattercarpet"
           }
          ],
          "scattergeo": [
           {
            "marker": {
             "colorbar": {
              "outlinewidth": 0,
              "ticks": ""
             }
            },
            "type": "scattergeo"
           }
          ],
          "scattergl": [
           {
            "marker": {
             "colorbar": {
              "outlinewidth": 0,
              "ticks": ""
             }
            },
            "type": "scattergl"
           }
          ],
          "scattermap": [
           {
            "marker": {
             "colorbar": {
              "outlinewidth": 0,
              "ticks": ""
             }
            },
            "type": "scattermap"
           }
          ],
          "scattermapbox": [
           {
            "marker": {
             "colorbar": {
              "outlinewidth": 0,
              "ticks": ""
             }
            },
            "type": "scattermapbox"
           }
          ],
          "scatterpolar": [
           {
            "marker": {
             "colorbar": {
              "outlinewidth": 0,
              "ticks": ""
             }
            },
            "type": "scatterpolar"
           }
          ],
          "scatterpolargl": [
           {
            "marker": {
             "colorbar": {
              "outlinewidth": 0,
              "ticks": ""
             }
            },
            "type": "scatterpolargl"
           }
          ],
          "scatterternary": [
           {
            "marker": {
             "colorbar": {
              "outlinewidth": 0,
              "ticks": ""
             }
            },
            "type": "scatterternary"
           }
          ],
          "surface": [
           {
            "colorbar": {
             "outlinewidth": 0,
             "ticks": ""
            },
            "colorscale": [
             [
              0,
              "#0d0887"
             ],
             [
              0.1111111111111111,
              "#46039f"
             ],
             [
              0.2222222222222222,
              "#7201a8"
             ],
             [
              0.3333333333333333,
              "#9c179e"
             ],
             [
              0.4444444444444444,
              "#bd3786"
             ],
             [
              0.5555555555555556,
              "#d8576b"
             ],
             [
              0.6666666666666666,
              "#ed7953"
             ],
             [
              0.7777777777777778,
              "#fb9f3a"
             ],
             [
              0.8888888888888888,
              "#fdca26"
             ],
             [
              1,
              "#f0f921"
             ]
            ],
            "type": "surface"
           }
          ],
          "table": [
           {
            "cells": {
             "fill": {
              "color": "#EBF0F8"
             },
             "line": {
              "color": "white"
             }
            },
            "header": {
             "fill": {
              "color": "#C8D4E3"
             },
             "line": {
              "color": "white"
             }
            },
            "type": "table"
           }
          ]
         },
         "layout": {
          "annotationdefaults": {
           "arrowcolor": "#2a3f5f",
           "arrowhead": 0,
           "arrowwidth": 1
          },
          "autotypenumbers": "strict",
          "coloraxis": {
           "colorbar": {
            "outlinewidth": 0,
            "ticks": ""
           }
          },
          "colorscale": {
           "diverging": [
            [
             0,
             "#8e0152"
            ],
            [
             0.1,
             "#c51b7d"
            ],
            [
             0.2,
             "#de77ae"
            ],
            [
             0.3,
             "#f1b6da"
            ],
            [
             0.4,
             "#fde0ef"
            ],
            [
             0.5,
             "#f7f7f7"
            ],
            [
             0.6,
             "#e6f5d0"
            ],
            [
             0.7,
             "#b8e186"
            ],
            [
             0.8,
             "#7fbc41"
            ],
            [
             0.9,
             "#4d9221"
            ],
            [
             1,
             "#276419"
            ]
           ],
           "sequential": [
            [
             0,
             "#0d0887"
            ],
            [
             0.1111111111111111,
             "#46039f"
            ],
            [
             0.2222222222222222,
             "#7201a8"
            ],
            [
             0.3333333333333333,
             "#9c179e"
            ],
            [
             0.4444444444444444,
             "#bd3786"
            ],
            [
             0.5555555555555556,
             "#d8576b"
            ],
            [
             0.6666666666666666,
             "#ed7953"
            ],
            [
             0.7777777777777778,
             "#fb9f3a"
            ],
            [
             0.8888888888888888,
             "#fdca26"
            ],
            [
             1,
             "#f0f921"
            ]
           ],
           "sequentialminus": [
            [
             0,
             "#0d0887"
            ],
            [
             0.1111111111111111,
             "#46039f"
            ],
            [
             0.2222222222222222,
             "#7201a8"
            ],
            [
             0.3333333333333333,
             "#9c179e"
            ],
            [
             0.4444444444444444,
             "#bd3786"
            ],
            [
             0.5555555555555556,
             "#d8576b"
            ],
            [
             0.6666666666666666,
             "#ed7953"
            ],
            [
             0.7777777777777778,
             "#fb9f3a"
            ],
            [
             0.8888888888888888,
             "#fdca26"
            ],
            [
             1,
             "#f0f921"
            ]
           ]
          },
          "colorway": [
           "#636efa",
           "#EF553B",
           "#00cc96",
           "#ab63fa",
           "#FFA15A",
           "#19d3f3",
           "#FF6692",
           "#B6E880",
           "#FF97FF",
           "#FECB52"
          ],
          "font": {
           "color": "#2a3f5f"
          },
          "geo": {
           "bgcolor": "white",
           "lakecolor": "white",
           "landcolor": "#E5ECF6",
           "showlakes": true,
           "showland": true,
           "subunitcolor": "white"
          },
          "hoverlabel": {
           "align": "left"
          },
          "hovermode": "closest",
          "mapbox": {
           "style": "light"
          },
          "paper_bgcolor": "white",
          "plot_bgcolor": "#E5ECF6",
          "polar": {
           "angularaxis": {
            "gridcolor": "white",
            "linecolor": "white",
            "ticks": ""
           },
           "bgcolor": "#E5ECF6",
           "radialaxis": {
            "gridcolor": "white",
            "linecolor": "white",
            "ticks": ""
           }
          },
          "scene": {
           "xaxis": {
            "backgroundcolor": "#E5ECF6",
            "gridcolor": "white",
            "gridwidth": 2,
            "linecolor": "white",
            "showbackground": true,
            "ticks": "",
            "zerolinecolor": "white"
           },
           "yaxis": {
            "backgroundcolor": "#E5ECF6",
            "gridcolor": "white",
            "gridwidth": 2,
            "linecolor": "white",
            "showbackground": true,
            "ticks": "",
            "zerolinecolor": "white"
           },
           "zaxis": {
            "backgroundcolor": "#E5ECF6",
            "gridcolor": "white",
            "gridwidth": 2,
            "linecolor": "white",
            "showbackground": true,
            "ticks": "",
            "zerolinecolor": "white"
           }
          },
          "shapedefaults": {
           "line": {
            "color": "#2a3f5f"
           }
          },
          "ternary": {
           "aaxis": {
            "gridcolor": "white",
            "linecolor": "white",
            "ticks": ""
           },
           "baxis": {
            "gridcolor": "white",
            "linecolor": "white",
            "ticks": ""
           },
           "bgcolor": "#E5ECF6",
           "caxis": {
            "gridcolor": "white",
            "linecolor": "white",
            "ticks": ""
           }
          },
          "title": {
           "x": 0.05
          },
          "xaxis": {
           "automargin": true,
           "gridcolor": "white",
           "linecolor": "white",
           "ticks": "",
           "title": {
            "standoff": 15
           },
           "zerolinecolor": "white",
           "zerolinewidth": 2
          },
          "yaxis": {
           "automargin": true,
           "gridcolor": "white",
           "linecolor": "white",
           "ticks": "",
           "title": {
            "standoff": 15
           },
           "zerolinecolor": "white",
           "zerolinewidth": 2
          }
         }
        },
        "title": {
         "text": "Bitcoin Historical Price"
        },
        "xaxis": {
         "rangeslider": {
          "visible": false
         },
         "title": {
          "text": "Date"
         }
        }
       }
      },
      "text/html": [
       "<div>            <script src=\"https://cdnjs.cloudflare.com/ajax/libs/mathjax/2.7.5/MathJax.js?config=TeX-AMS-MML_SVG\"></script><script type=\"text/javascript\">if (window.MathJax && window.MathJax.Hub && window.MathJax.Hub.Config) {window.MathJax.Hub.Config({SVG: {font: \"STIX-Web\"}});}</script>                <script type=\"text/javascript\">window.PlotlyConfig = {MathJaxConfig: 'local'};</script>\n",
       "        <script charset=\"utf-8\" src=\"https://cdn.plot.ly/plotly-3.0.1.min.js\"></script>                <div id=\"39cf28a5-894b-45fb-a661-4d30b20d57a3\" class=\"plotly-graph-div\" style=\"height:525px; width:100%;\"></div>            <script type=\"text/javascript\">                window.PLOTLYENV=window.PLOTLYENV || {};                                if (document.getElementById(\"39cf28a5-894b-45fb-a661-4d30b20d57a3\")) {                    Plotly.newPlot(                        \"39cf28a5-894b-45fb-a661-4d30b20d57a3\",                        [{\"close\":{\"dtype\":\"f8\",\"bdata\":\"H4XrUbjGYEDhehSuRxFiQAAAAAAAYGFAj8L1KFw\\u002fXUA9CtejcE1aQAAAAAAAcFhAAAAAAAAgXEAK16NwPfpcQDMzMzMzE1xAAAAAAADgW0AUrkfhemRcQHsUrkfhKlxAzczMzMxMXUCPwvUoXM9cQAAAAAAAwFxAH4XrUbh+XUAAAAAAAOBbQK5H4XoUjlxAcT0K16OwXUDhehSuR8FeQAAAAAAA4F5Aj8L1KFx\\u002fXkAAAAAAAIBeQLgehetRuF5AKVyPwvX4XkDNzMzMzKxfQGZmZmZmpmBAj8L1KFx\\u002fYECPwvUoXK9gQAAAAAAAOGBAAAAAAAAgYECamZmZmYlgQJqZmZmZGWBAAAAAAAAgYECamZmZmSlgQMP1KFyPkl5ArkfhehSOXkB7FK5H4VpeQJqZmZmZaV5AAAAAAACAXUAAAAAAAOBbQDMzMzMzE1tAAAAAAAAAWUBmZmZmZpZaQJqZmZmZOVtAmpmZmZkJW0AAAAAAAABaQB+F61G4\\u002flhAj8L1KFz\\u002fWEBxPQrXo+BYQA==\"},\"high\":{\"dtype\":\"f8\",\"bdata\":\"j8L1KFz\\u002fYEBI4XoUrm9iQPYoXI\\u002fCXWJAFK5H4Xp8YUBmZmZmZmZfQLgehetRCFtAAAAAAADAXEAzMzMzM7NdQArXo3A9Kl9AXI\\u002fC9ShcXEBSuB6F6\\u002fFcQD0K16NwXVxAAAAAAACAXkDsUbgehatdQM3MzMzMXF1AzczMzMysXUAzMzMzM\\u002fNdQKRwPQrX81xAcT0K16OwXUAzMzMzM1NfQAAAAAAAUF9AAAAAAAAgX0BI4XoUrudeQAAAAAAAwF5AAAAAAAAAX0DsUbgehbtfQDMzMzMzu2BA16NwPQqnYEAAAAAAAABhQNejcD0K72BAw\\u002fUoXI9SYEB7FK5H4ZJgQAAAAAAAiGBAzczMzMw8YEApXI\\u002fC9ThgQM3MzMzMLGBAAAAAAACgXkD2KFyPwvVeQK5H4XoU3l5AZmZmZmbGXkAAAAAAAMBdQHsUrkfh2ltAj8L1KFw\\u002fW0BmZmZmZoZbQGZmZmZmZltAw\\u002fUoXI\\u002fyW0AzMzMzM5NbQM3MzMzMLFpAzczMzMzsWUBmZmZmZmZZQA==\"},\"low\":{\"dtype\":\"f8\",\"bdata\":\"MzMzMzODYEAAAAAAAMBgQJqZmZmZwWBArkfhehTuWkBSuB6F6xFXQGZmZmZmxlNAAAAAAAAgV0ApXI\\u002fC9chaQClcj8L1qFpAzczMzMxsWEBmZmZmZmZbQHE9CtejUFtAMzMzMzPjW0BxPQrXo0BcQFyPwvUoXFxAAAAAAACgXEAAAAAAAJBbQAAAAAAA4FlAzczMzMwMXEAUrkfheiRdQDMzMzMzk15AFK5H4XrkXUBI4XoUrgdeQD0K16NwTV5AAAAAAACAXkBmZmZmZsZeQK5H4XoUbl9AzczMzMwcYECkcD0K11NgQM3MzMzMLF9AZmZmZmZmX0AK16NwPepfQAAAAAAAwF9AmpmZmZmZX0DNzMzMzMxfQDMzMzMzw1xAAAAAAAAAXUBmZmZmZsZdQJqZmZmZ+V1AAAAAAABQXUB7FK5H4ZpaQDMzMzMz01pAAAAAAAAgVkAAAAAAAMBXQAAAAAAAAFpAH4XrUbiuWkBSuB6F6yFZQAAAAAAAgFhAAAAAAACAWEDNzMzMzLxYQA==\"},\"open\":{\"dtype\":\"f8\",\"bdata\":\"mpmZmZnpYECuR+F6FM5gQAAAAAAAAGJAAAAAAABgYUC4HoXrURhdQAAAAAAAkFpAZmZmZmaGWECamZmZmTlcQB+F61G4\\u002flxAAAAAAAAQXEBmZmZmZmZbQM3MzMzMTFxAMzMzMzMzXEDNzMzMzGxdQClcj8L16FxAFK5H4Xq0XEAfhetRuH5dQJqZmZmZ2VtArkfhehSOXEA9CtejcI1dQAAAAAAA4F5APQrXo3DNXkAAAAAAAKBeQOF6FK5HgV5AKVyPwvW4XkAzMzMzM\\u002fNeQDMzMzMzk19AMzMzMzOjYEBI4XoUrn9gQAAAAAAAsGBAcT0K16M4YEAAAAAAACBgQAAAAAAAiGBAmpmZmZkZYEBSuB6F6xlgQJqZmZmZKWBAAAAAAACgXkCPwvUoXC9eQJqZmZmZWV5AmpmZmZl5XkCuR+F6FL5dQAAAAAAAwFtAKVyPwvX4WkBcj8L1KBxZQGZmZmZmllpAAAAAAABAW0BSuB6F6zFbQM3MzMzM\\u002fFlAAAAAAAAAWUAzMzMzM\\u002fNYQA==\"},\"x\":[\"2024-05-21T00:00:00.000000000\",\"2024-05-20T00:00:00.000000000\",\"2024-05-19T00:00:00.000000000\",\"2024-05-18T00:00:00.000000000\",\"2024-05-17T00:00:00.000000000\",\"2024-05-16T00:00:00.000000000\",\"2024-05-15T00:00:00.000000000\",\"2024-05-14T00:00:00.000000000\",\"2024-05-13T00:00:00.000000000\",\"2024-05-12T00:00:00.000000000\",\"2024-05-11T00:00:00.000000000\",\"2024-05-10T00:00:00.000000000\",\"2024-05-09T00:00:00.000000000\",\"2024-05-08T00:00:00.000000000\",\"2024-05-07T00:00:00.000000000\",\"2024-05-06T00:00:00.000000000\",\"2024-05-05T00:00:00.000000000\",\"2024-05-04T00:00:00.000000000\",\"2024-05-03T00:00:00.000000000\",\"2024-05-02T00:00:00.000000000\",\"2024-05-01T00:00:00.000000000\",\"2024-04-30T00:00:00.000000000\",\"2024-04-29T00:00:00.000000000\",\"2024-04-28T00:00:00.000000000\",\"2024-04-27T00:00:00.000000000\",\"2024-04-26T00:00:00.000000000\",\"2024-04-25T00:00:00.000000000\",\"2024-04-24T00:00:00.000000000\",\"2024-04-23T00:00:00.000000000\",\"2024-04-22T00:00:00.000000000\",\"2024-04-21T00:00:00.000000000\",\"2024-04-20T00:00:00.000000000\",\"2024-04-19T00:00:00.000000000\",\"2024-04-18T00:00:00.000000000\",\"2024-04-17T00:00:00.000000000\",\"2024-04-16T00:00:00.000000000\",\"2024-04-15T00:00:00.000000000\",\"2024-04-14T00:00:00.000000000\",\"2024-04-13T00:00:00.000000000\",\"2024-04-12T00:00:00.000000000\",\"2024-04-11T00:00:00.000000000\",\"2024-04-10T00:00:00.000000000\",\"2024-04-09T00:00:00.000000000\",\"2024-04-08T00:00:00.000000000\",\"2024-04-07T00:00:00.000000000\",\"2024-04-06T00:00:00.000000000\",\"2024-04-05T00:00:00.000000000\",\"2024-04-04T00:00:00.000000000\",\"2024-04-03T00:00:00.000000000\",\"2024-04-02T00:00:00.000000000\"],\"type\":\"candlestick\"}],                        {\"title\":{\"text\":\"Bitcoin Historical Price\"},\"xaxis\":{\"title\":{\"text\":\"Date\"},\"rangeslider\":{\"visible\":false}},\"template\":{\"data\":{\"histogram2dcontour\":[{\"type\":\"histogram2dcontour\",\"colorbar\":{\"outlinewidth\":0,\"ticks\":\"\"},\"colorscale\":[[0.0,\"#0d0887\"],[0.1111111111111111,\"#46039f\"],[0.2222222222222222,\"#7201a8\"],[0.3333333333333333,\"#9c179e\"],[0.4444444444444444,\"#bd3786\"],[0.5555555555555556,\"#d8576b\"],[0.6666666666666666,\"#ed7953\"],[0.7777777777777778,\"#fb9f3a\"],[0.8888888888888888,\"#fdca26\"],[1.0,\"#f0f921\"]]}],\"choropleth\":[{\"type\":\"choropleth\",\"colorbar\":{\"outlinewidth\":0,\"ticks\":\"\"}}],\"histogram2d\":[{\"type\":\"histogram2d\",\"colorbar\":{\"outlinewidth\":0,\"ticks\":\"\"},\"colorscale\":[[0.0,\"#0d0887\"],[0.1111111111111111,\"#46039f\"],[0.2222222222222222,\"#7201a8\"],[0.3333333333333333,\"#9c179e\"],[0.4444444444444444,\"#bd3786\"],[0.5555555555555556,\"#d8576b\"],[0.6666666666666666,\"#ed7953\"],[0.7777777777777778,\"#fb9f3a\"],[0.8888888888888888,\"#fdca26\"],[1.0,\"#f0f921\"]]}],\"heatmap\":[{\"type\":\"heatmap\",\"colorbar\":{\"outlinewidth\":0,\"ticks\":\"\"},\"colorscale\":[[0.0,\"#0d0887\"],[0.1111111111111111,\"#46039f\"],[0.2222222222222222,\"#7201a8\"],[0.3333333333333333,\"#9c179e\"],[0.4444444444444444,\"#bd3786\"],[0.5555555555555556,\"#d8576b\"],[0.6666666666666666,\"#ed7953\"],[0.7777777777777778,\"#fb9f3a\"],[0.8888888888888888,\"#fdca26\"],[1.0,\"#f0f921\"]]}],\"contourcarpet\":[{\"type\":\"contourcarpet\",\"colorbar\":{\"outlinewidth\":0,\"ticks\":\"\"}}],\"contour\":[{\"type\":\"contour\",\"colorbar\":{\"outlinewidth\":0,\"ticks\":\"\"},\"colorscale\":[[0.0,\"#0d0887\"],[0.1111111111111111,\"#46039f\"],[0.2222222222222222,\"#7201a8\"],[0.3333333333333333,\"#9c179e\"],[0.4444444444444444,\"#bd3786\"],[0.5555555555555556,\"#d8576b\"],[0.6666666666666666,\"#ed7953\"],[0.7777777777777778,\"#fb9f3a\"],[0.8888888888888888,\"#fdca26\"],[1.0,\"#f0f921\"]]}],\"surface\":[{\"type\":\"surface\",\"colorbar\":{\"outlinewidth\":0,\"ticks\":\"\"},\"colorscale\":[[0.0,\"#0d0887\"],[0.1111111111111111,\"#46039f\"],[0.2222222222222222,\"#7201a8\"],[0.3333333333333333,\"#9c179e\"],[0.4444444444444444,\"#bd3786\"],[0.5555555555555556,\"#d8576b\"],[0.6666666666666666,\"#ed7953\"],[0.7777777777777778,\"#fb9f3a\"],[0.8888888888888888,\"#fdca26\"],[1.0,\"#f0f921\"]]}],\"mesh3d\":[{\"type\":\"mesh3d\",\"colorbar\":{\"outlinewidth\":0,\"ticks\":\"\"}}],\"scatter\":[{\"fillpattern\":{\"fillmode\":\"overlay\",\"size\":10,\"solidity\":0.2},\"type\":\"scatter\"}],\"parcoords\":[{\"type\":\"parcoords\",\"line\":{\"colorbar\":{\"outlinewidth\":0,\"ticks\":\"\"}}}],\"scatterpolargl\":[{\"type\":\"scatterpolargl\",\"marker\":{\"colorbar\":{\"outlinewidth\":0,\"ticks\":\"\"}}}],\"bar\":[{\"error_x\":{\"color\":\"#2a3f5f\"},\"error_y\":{\"color\":\"#2a3f5f\"},\"marker\":{\"line\":{\"color\":\"#E5ECF6\",\"width\":0.5},\"pattern\":{\"fillmode\":\"overlay\",\"size\":10,\"solidity\":0.2}},\"type\":\"bar\"}],\"scattergeo\":[{\"type\":\"scattergeo\",\"marker\":{\"colorbar\":{\"outlinewidth\":0,\"ticks\":\"\"}}}],\"scatterpolar\":[{\"type\":\"scatterpolar\",\"marker\":{\"colorbar\":{\"outlinewidth\":0,\"ticks\":\"\"}}}],\"histogram\":[{\"marker\":{\"pattern\":{\"fillmode\":\"overlay\",\"size\":10,\"solidity\":0.2}},\"type\":\"histogram\"}],\"scattergl\":[{\"type\":\"scattergl\",\"marker\":{\"colorbar\":{\"outlinewidth\":0,\"ticks\":\"\"}}}],\"scatter3d\":[{\"type\":\"scatter3d\",\"line\":{\"colorbar\":{\"outlinewidth\":0,\"ticks\":\"\"}},\"marker\":{\"colorbar\":{\"outlinewidth\":0,\"ticks\":\"\"}}}],\"scattermap\":[{\"type\":\"scattermap\",\"marker\":{\"colorbar\":{\"outlinewidth\":0,\"ticks\":\"\"}}}],\"scattermapbox\":[{\"type\":\"scattermapbox\",\"marker\":{\"colorbar\":{\"outlinewidth\":0,\"ticks\":\"\"}}}],\"scatterternary\":[{\"type\":\"scatterternary\",\"marker\":{\"colorbar\":{\"outlinewidth\":0,\"ticks\":\"\"}}}],\"scattercarpet\":[{\"type\":\"scattercarpet\",\"marker\":{\"colorbar\":{\"outlinewidth\":0,\"ticks\":\"\"}}}],\"carpet\":[{\"aaxis\":{\"endlinecolor\":\"#2a3f5f\",\"gridcolor\":\"white\",\"linecolor\":\"white\",\"minorgridcolor\":\"white\",\"startlinecolor\":\"#2a3f5f\"},\"baxis\":{\"endlinecolor\":\"#2a3f5f\",\"gridcolor\":\"white\",\"linecolor\":\"white\",\"minorgridcolor\":\"white\",\"startlinecolor\":\"#2a3f5f\"},\"type\":\"carpet\"}],\"table\":[{\"cells\":{\"fill\":{\"color\":\"#EBF0F8\"},\"line\":{\"color\":\"white\"}},\"header\":{\"fill\":{\"color\":\"#C8D4E3\"},\"line\":{\"color\":\"white\"}},\"type\":\"table\"}],\"barpolar\":[{\"marker\":{\"line\":{\"color\":\"#E5ECF6\",\"width\":0.5},\"pattern\":{\"fillmode\":\"overlay\",\"size\":10,\"solidity\":0.2}},\"type\":\"barpolar\"}],\"pie\":[{\"automargin\":true,\"type\":\"pie\"}]},\"layout\":{\"autotypenumbers\":\"strict\",\"colorway\":[\"#636efa\",\"#EF553B\",\"#00cc96\",\"#ab63fa\",\"#FFA15A\",\"#19d3f3\",\"#FF6692\",\"#B6E880\",\"#FF97FF\",\"#FECB52\"],\"font\":{\"color\":\"#2a3f5f\"},\"hovermode\":\"closest\",\"hoverlabel\":{\"align\":\"left\"},\"paper_bgcolor\":\"white\",\"plot_bgcolor\":\"#E5ECF6\",\"polar\":{\"bgcolor\":\"#E5ECF6\",\"angularaxis\":{\"gridcolor\":\"white\",\"linecolor\":\"white\",\"ticks\":\"\"},\"radialaxis\":{\"gridcolor\":\"white\",\"linecolor\":\"white\",\"ticks\":\"\"}},\"ternary\":{\"bgcolor\":\"#E5ECF6\",\"aaxis\":{\"gridcolor\":\"white\",\"linecolor\":\"white\",\"ticks\":\"\"},\"baxis\":{\"gridcolor\":\"white\",\"linecolor\":\"white\",\"ticks\":\"\"},\"caxis\":{\"gridcolor\":\"white\",\"linecolor\":\"white\",\"ticks\":\"\"}},\"coloraxis\":{\"colorbar\":{\"outlinewidth\":0,\"ticks\":\"\"}},\"colorscale\":{\"sequential\":[[0.0,\"#0d0887\"],[0.1111111111111111,\"#46039f\"],[0.2222222222222222,\"#7201a8\"],[0.3333333333333333,\"#9c179e\"],[0.4444444444444444,\"#bd3786\"],[0.5555555555555556,\"#d8576b\"],[0.6666666666666666,\"#ed7953\"],[0.7777777777777778,\"#fb9f3a\"],[0.8888888888888888,\"#fdca26\"],[1.0,\"#f0f921\"]],\"sequentialminus\":[[0.0,\"#0d0887\"],[0.1111111111111111,\"#46039f\"],[0.2222222222222222,\"#7201a8\"],[0.3333333333333333,\"#9c179e\"],[0.4444444444444444,\"#bd3786\"],[0.5555555555555556,\"#d8576b\"],[0.6666666666666666,\"#ed7953\"],[0.7777777777777778,\"#fb9f3a\"],[0.8888888888888888,\"#fdca26\"],[1.0,\"#f0f921\"]],\"diverging\":[[0,\"#8e0152\"],[0.1,\"#c51b7d\"],[0.2,\"#de77ae\"],[0.3,\"#f1b6da\"],[0.4,\"#fde0ef\"],[0.5,\"#f7f7f7\"],[0.6,\"#e6f5d0\"],[0.7,\"#b8e186\"],[0.8,\"#7fbc41\"],[0.9,\"#4d9221\"],[1,\"#276419\"]]},\"xaxis\":{\"gridcolor\":\"white\",\"linecolor\":\"white\",\"ticks\":\"\",\"title\":{\"standoff\":15},\"zerolinecolor\":\"white\",\"automargin\":true,\"zerolinewidth\":2},\"yaxis\":{\"gridcolor\":\"white\",\"linecolor\":\"white\",\"ticks\":\"\",\"title\":{\"standoff\":15},\"zerolinecolor\":\"white\",\"automargin\":true,\"zerolinewidth\":2},\"scene\":{\"xaxis\":{\"backgroundcolor\":\"#E5ECF6\",\"gridcolor\":\"white\",\"linecolor\":\"white\",\"showbackground\":true,\"ticks\":\"\",\"zerolinecolor\":\"white\",\"gridwidth\":2},\"yaxis\":{\"backgroundcolor\":\"#E5ECF6\",\"gridcolor\":\"white\",\"linecolor\":\"white\",\"showbackground\":true,\"ticks\":\"\",\"zerolinecolor\":\"white\",\"gridwidth\":2},\"zaxis\":{\"backgroundcolor\":\"#E5ECF6\",\"gridcolor\":\"white\",\"linecolor\":\"white\",\"showbackground\":true,\"ticks\":\"\",\"zerolinecolor\":\"white\",\"gridwidth\":2}},\"shapedefaults\":{\"line\":{\"color\":\"#2a3f5f\"}},\"annotationdefaults\":{\"arrowcolor\":\"#2a3f5f\",\"arrowhead\":0,\"arrowwidth\":1},\"geo\":{\"bgcolor\":\"white\",\"landcolor\":\"#E5ECF6\",\"subunitcolor\":\"white\",\"showland\":true,\"showlakes\":true,\"lakecolor\":\"white\"},\"title\":{\"x\":0.05},\"mapbox\":{\"style\":\"light\"}}}},                        {\"responsive\": true}                    ).then(function(){\n",
       "                            \n",
       "var gd = document.getElementById('39cf28a5-894b-45fb-a661-4d30b20d57a3');\n",
       "var x = new MutationObserver(function (mutations, observer) {{\n",
       "        var display = window.getComputedStyle(gd).display;\n",
       "        if (!display || display === 'none') {{\n",
       "            console.log([gd, 'removed!']);\n",
       "            Plotly.purge(gd);\n",
       "            observer.disconnect();\n",
       "        }}\n",
       "}});\n",
       "\n",
       "// Listen for the removal of the full notebook cells\n",
       "var notebookContainer = gd.closest('#notebook-container');\n",
       "if (notebookContainer) {{\n",
       "    x.observe(notebookContainer, {childList: true});\n",
       "}}\n",
       "\n",
       "// Listen for the clearing of the current output cell\n",
       "var outputEl = gd.closest('.output');\n",
       "if (outputEl) {{\n",
       "    x.observe(outputEl, {childList: true});\n",
       "}}\n",
       "\n",
       "                        })                };            </script>        </div>"
      ]
     },
     "metadata": {},
     "output_type": "display_data"
    }
   ],
   "source": [
    "fig = go.Figure(data = candle_data , layout=layout)\n",
    "fig.update_layout(xaxis_rangeslider_visible = False)\n",
    "fig.show()"
   ]
  },
  {
   "cell_type": "markdown",
   "id": "05d1860a-42f1-4046-b65d-2440f02960c9",
   "metadata": {
    "jp-MarkdownHeadingCollapsed": true
   },
   "source": [
    "### 5..Analysing Closing price (on normal scale & log-scale)"
   ]
  },
  {
   "cell_type": "code",
   "execution_count": 47,
   "id": "3b86dcd3-d711-47a7-af27-4e947a97471a",
   "metadata": {},
   "outputs": [
    {
     "data": {
      "text/plain": [
       "0        134.21\n",
       "1        144.54\n",
       "2        139.00\n",
       "3        116.99\n",
       "4        105.21\n",
       "         ...   \n",
       "1551    2671.78\n",
       "1552    2809.01\n",
       "1553    2726.45\n",
       "1554    2757.18\n",
       "1555    2875.34\n",
       "Name: Close, Length: 1556, dtype: float64"
      ]
     },
     "execution_count": 47,
     "metadata": {},
     "output_type": "execute_result"
    }
   ],
   "source": [
    "data['Close']"
   ]
  },
  {
   "cell_type": "code",
   "execution_count": 48,
   "id": "48d5a540-42dd-4942-a98e-00970e4987e8",
   "metadata": {},
   "outputs": [
    {
     "data": {
      "text/plain": [
       "<Axes: >"
      ]
     },
     "execution_count": 48,
     "metadata": {},
     "output_type": "execute_result"
    },
    {
     "data": {
      "image/png": "[encoded data removed]",
      "text/plain": [
       "<Figure size 640x480 with 1 Axes>"
      ]
     },
     "metadata": {},
     "output_type": "display_data"
    }
   ],
   "source": [
    "data['Close'].plot()"
   ]
  },
  {
   "cell_type": "code",
   "execution_count": null,
   "id": "33201f70-1e9a-468c-ab53-2502d428b7e0",
   "metadata": {},
   "outputs": [],
   "source": [
    "## On above plot , x-indices are number , lets first set \"date\" as per index so that u will get date on \"x-indexes\"\n",
    "## using pandas plot \"data['Close'].plot()\" , so for pandas plot our row indexes must be date .."
   ]
  },
  {
   "cell_type": "code",
   "execution_count": 49,
   "id": "764ebf73-605a-4963-9dff-55c0ef549e82",
   "metadata": {},
   "outputs": [],
   "source": [
    "data.set_index('Date' , inplace=True)"
   ]
  },
  {
   "cell_type": "code",
   "execution_count": 50,
   "id": "32e28b30-3152-4114-819a-75d19c0c14c7",
   "metadata": {},
   "outputs": [
    {
     "data": {
      "text/html": [
       "<div>\n",
       "<style scoped>\n",
       "    .dataframe tbody tr th:only-of-type {\n",
       "        vertical-align: middle;\n",
       "    }\n",
       "\n",
       "    .dataframe tbody tr th {\n",
       "        vertical-align: top;\n",
       "    }\n",
       "\n",
       "    .dataframe thead th {\n",
       "        text-align: right;\n",
       "    }\n",
       "</style>\n",
       "<table border=\"1\" class=\"dataframe\">\n",
       "  <thead>\n",
       "    <tr style=\"text-align: right;\">\n",
       "      <th></th>\n",
       "      <th>Open</th>\n",
       "      <th>High</th>\n",
       "      <th>Low</th>\n",
       "      <th>Close</th>\n",
       "      <th>Volume</th>\n",
       "      <th>Market Cap</th>\n",
       "    </tr>\n",
       "    <tr>\n",
       "      <th>Date</th>\n",
       "      <th></th>\n",
       "      <th></th>\n",
       "      <th></th>\n",
       "      <th></th>\n",
       "      <th></th>\n",
       "      <th></th>\n",
       "    </tr>\n",
       "  </thead>\n",
       "  <tbody>\n",
       "    <tr>\n",
       "      <th>2024-05-21</th>\n",
       "      <td>135.30</td>\n",
       "      <td>135.98</td>\n",
       "      <td>132.10</td>\n",
       "      <td>134.21</td>\n",
       "      <td>-</td>\n",
       "      <td>1,500,520,000</td>\n",
       "    </tr>\n",
       "    <tr>\n",
       "      <th>2024-05-20</th>\n",
       "      <td>134.44</td>\n",
       "      <td>147.49</td>\n",
       "      <td>134.00</td>\n",
       "      <td>144.54</td>\n",
       "      <td>-</td>\n",
       "      <td>1,491,160,000</td>\n",
       "    </tr>\n",
       "    <tr>\n",
       "      <th>2024-05-19</th>\n",
       "      <td>144.00</td>\n",
       "      <td>146.93</td>\n",
       "      <td>134.05</td>\n",
       "      <td>139.00</td>\n",
       "      <td>-</td>\n",
       "      <td>1,597,780,000</td>\n",
       "    </tr>\n",
       "    <tr>\n",
       "      <th>2024-05-18</th>\n",
       "      <td>139.00</td>\n",
       "      <td>139.89</td>\n",
       "      <td>107.72</td>\n",
       "      <td>116.99</td>\n",
       "      <td>-</td>\n",
       "      <td>1,542,820,000</td>\n",
       "    </tr>\n",
       "    <tr>\n",
       "      <th>2024-05-17</th>\n",
       "      <td>116.38</td>\n",
       "      <td>125.60</td>\n",
       "      <td>92.28</td>\n",
       "      <td>105.21</td>\n",
       "      <td>-</td>\n",
       "      <td>1,292,190,000</td>\n",
       "    </tr>\n",
       "    <tr>\n",
       "      <th>...</th>\n",
       "      <td>...</td>\n",
       "      <td>...</td>\n",
       "      <td>...</td>\n",
       "      <td>...</td>\n",
       "      <td>...</td>\n",
       "      <td>...</td>\n",
       "    </tr>\n",
       "    <tr>\n",
       "      <th>2020-02-21</th>\n",
       "      <td>2538.71</td>\n",
       "      <td>2693.32</td>\n",
       "      <td>2529.34</td>\n",
       "      <td>2671.78</td>\n",
       "      <td>789,104,000</td>\n",
       "      <td>41,816,500,000</td>\n",
       "    </tr>\n",
       "    <tr>\n",
       "      <th>2020-02-20</th>\n",
       "      <td>2679.73</td>\n",
       "      <td>2897.45</td>\n",
       "      <td>2679.73</td>\n",
       "      <td>2809.01</td>\n",
       "      <td>1,380,100,000</td>\n",
       "      <td>44,144,400,000</td>\n",
       "    </tr>\n",
       "    <tr>\n",
       "      <th>2020-02-19</th>\n",
       "      <td>2807.02</td>\n",
       "      <td>2808.76</td>\n",
       "      <td>2692.80</td>\n",
       "      <td>2726.45</td>\n",
       "      <td>803,746,000</td>\n",
       "      <td>46,246,700,000</td>\n",
       "    </tr>\n",
       "    <tr>\n",
       "      <th>2020-02-18</th>\n",
       "      <td>2724.39</td>\n",
       "      <td>2758.53</td>\n",
       "      <td>2644.85</td>\n",
       "      <td>2757.18</td>\n",
       "      <td>705,943,000</td>\n",
       "      <td>44,890,700,000</td>\n",
       "    </tr>\n",
       "    <tr>\n",
       "      <th>2020-02-17</th>\n",
       "      <td>2763.24</td>\n",
       "      <td>2889.62</td>\n",
       "      <td>2720.61</td>\n",
       "      <td>2875.34</td>\n",
       "      <td>860,575,000</td>\n",
       "      <td>45,535,800,000</td>\n",
       "    </tr>\n",
       "  </tbody>\n",
       "</table>\n",
       "<p>1556 rows × 6 columns</p>\n",
       "</div>"
      ],
      "text/plain": [
       "               Open     High      Low    Close         Volume      Market Cap\n",
       "Date                                                                         \n",
       "2024-05-21   135.30   135.98   132.10   134.21              -   1,500,520,000\n",
       "2024-05-20   134.44   147.49   134.00   144.54              -   1,491,160,000\n",
       "2024-05-19   144.00   146.93   134.05   139.00              -   1,597,780,000\n",
       "2024-05-18   139.00   139.89   107.72   116.99              -   1,542,820,000\n",
       "2024-05-17   116.38   125.60    92.28   105.21              -   1,292,190,000\n",
       "...             ...      ...      ...      ...            ...             ...\n",
       "2020-02-21  2538.71  2693.32  2529.34  2671.78    789,104,000  41,816,500,000\n",
       "2020-02-20  2679.73  2897.45  2679.73  2809.01  1,380,100,000  44,144,400,000\n",
       "2020-02-19  2807.02  2808.76  2692.80  2726.45    803,746,000  46,246,700,000\n",
       "2020-02-18  2724.39  2758.53  2644.85  2757.18    705,943,000  44,890,700,000\n",
       "2020-02-17  2763.24  2889.62  2720.61  2875.34    860,575,000  45,535,800,000\n",
       "\n",
       "[1556 rows x 6 columns]"
      ]
     },
     "execution_count": 50,
     "metadata": {},
     "output_type": "execute_result"
    }
   ],
   "source": [
    "data"
   ]
  },
  {
   "cell_type": "code",
   "execution_count": 51,
   "id": "f5fe5ac2-a7fb-4ab8-a77c-1db09b942832",
   "metadata": {},
   "outputs": [
    {
     "data": {
      "text/plain": [
       "<Axes: xlabel='Date'>"
      ]
     },
     "execution_count": 51,
     "metadata": {},
     "output_type": "execute_result"
    },
    {
     "data": {
      "image/png": "[encoded data removed]",
      "text/plain": [
       "<Figure size 640x480 with 1 Axes>"
      ]
     },
     "metadata": {},
     "output_type": "display_data"
    }
   ],
   "source": [
    "data['Close'].plot()"
   ]
  },
  {
   "cell_type": "code",
   "execution_count": 52,
   "id": "c23a8555-b946-46cc-a8ff-72d15e6b0554",
   "metadata": {},
   "outputs": [
    {
     "data": {
      "text/plain": [
       "<Axes: xlabel='Date'>"
      ]
     },
     "execution_count": 52,
     "metadata": {},
     "output_type": "execute_result"
    },
    {
     "data": {
      "image/png": "[encoded data removed]",
      "text/plain": [
       "<Figure size 640x480 with 1 Axes>"
      ]
     },
     "metadata": {},
     "output_type": "display_data"
    }
   ],
   "source": [
    "np.log1p(data['Close']).plot()"
   ]
  },
  {
   "cell_type": "code",
   "execution_count": 53,
   "id": "2ce852f0-7600-497e-956e-bac242c9dd11",
   "metadata": {},
   "outputs": [
    {
     "data": {
      "image/png": "[encoded data removed]",
      "text/plain": [
       "<Figure size 2000x600 with 2 Axes>"
      ]
     },
     "metadata": {},
     "output_type": "display_data"
    }
   ],
   "source": [
    "plt.figure(figsize=(20,6))\n",
    "plt.subplot(1,2,1)\n",
    "data['Close'].plot()\n",
    "plt.title('No scaling')\n",
    "\n",
    "plt.subplot(1,2,2)\n",
    "np.log1p(data['Close']).plot()\n",
    "plt.title('Log scaling')\n",
    "plt.yscale('log')"
   ]
  },
  {
   "cell_type": "code",
   "execution_count": null,
   "id": "2a0cb86d-05f0-431e-bb11-b2eaef915ac7",
   "metadata": {},
   "outputs": [],
   "source": [
    "### Logarithmic price scales are better than linear price scales at showing less severe price increases or decreases..\n",
    "\n",
    "### log scale is always better if u have outliers or some high values in data"
   ]
  },
  {
   "cell_type": "code",
   "execution_count": null,
   "id": "23f1f76e-ada9-46e0-8ee3-306442e217cd",
   "metadata": {},
   "outputs": [],
   "source": []
  },
  {
   "cell_type": "markdown",
   "id": "903d84e5-76a5-4b5f-8681-d8260db765ba",
   "metadata": {
    "jp-MarkdownHeadingCollapsed": true
   },
   "source": [
    "### 6..Analyse closing price on Yaerly, Quarterly and Monthly basis!! "
   ]
  },
  {
   "cell_type": "code",
   "execution_count": null,
   "id": "8b0bb0c0-4fc6-4314-9f1d-2898dad6eeee",
   "metadata": {},
   "outputs": [],
   "source": [
    "'''\n",
    "    Before doing resampling , first we have to make your date feature 'row-index' so that we can resample it in a \n",
    "    a..yearly('YE')  , \n",
    "    b..quarterly('QE')   ,\n",
    "    c..monthly('ME') ,\n",
    "    d..weekly basis ('W'), \n",
    "    e..Daily_basis('D')  \n",
    "    f..minutes ('3T') , \n",
    "    g..30 second bins('30S')   ,\n",
    "    h..resample('17min')\n",
    "    \n",
    "'''"
   ]
  },
  {
   "cell_type": "code",
   "execution_count": 54,
   "id": "80f47e17-184e-4d62-9a6c-5699f8ba6154",
   "metadata": {},
   "outputs": [
    {
     "data": {
      "text/html": [
       "<div>\n",
       "<style scoped>\n",
       "    .dataframe tbody tr th:only-of-type {\n",
       "        vertical-align: middle;\n",
       "    }\n",
       "\n",
       "    .dataframe tbody tr th {\n",
       "        vertical-align: top;\n",
       "    }\n",
       "\n",
       "    .dataframe thead th {\n",
       "        text-align: right;\n",
       "    }\n",
       "</style>\n",
       "<table border=\"1\" class=\"dataframe\">\n",
       "  <thead>\n",
       "    <tr style=\"text-align: right;\">\n",
       "      <th></th>\n",
       "      <th>Open</th>\n",
       "      <th>High</th>\n",
       "      <th>Low</th>\n",
       "      <th>Close</th>\n",
       "      <th>Volume</th>\n",
       "      <th>Market Cap</th>\n",
       "    </tr>\n",
       "    <tr>\n",
       "      <th>Date</th>\n",
       "      <th></th>\n",
       "      <th></th>\n",
       "      <th></th>\n",
       "      <th></th>\n",
       "      <th></th>\n",
       "      <th></th>\n",
       "    </tr>\n",
       "  </thead>\n",
       "  <tbody>\n",
       "    <tr>\n",
       "      <th>2024-05-21</th>\n",
       "      <td>135.30</td>\n",
       "      <td>135.98</td>\n",
       "      <td>132.10</td>\n",
       "      <td>134.21</td>\n",
       "      <td>-</td>\n",
       "      <td>1,500,520,000</td>\n",
       "    </tr>\n",
       "    <tr>\n",
       "      <th>2024-05-20</th>\n",
       "      <td>134.44</td>\n",
       "      <td>147.49</td>\n",
       "      <td>134.00</td>\n",
       "      <td>144.54</td>\n",
       "      <td>-</td>\n",
       "      <td>1,491,160,000</td>\n",
       "    </tr>\n",
       "    <tr>\n",
       "      <th>2024-05-19</th>\n",
       "      <td>144.00</td>\n",
       "      <td>146.93</td>\n",
       "      <td>134.05</td>\n",
       "      <td>139.00</td>\n",
       "      <td>-</td>\n",
       "      <td>1,597,780,000</td>\n",
       "    </tr>\n",
       "    <tr>\n",
       "      <th>2024-05-18</th>\n",
       "      <td>139.00</td>\n",
       "      <td>139.89</td>\n",
       "      <td>107.72</td>\n",
       "      <td>116.99</td>\n",
       "      <td>-</td>\n",
       "      <td>1,542,820,000</td>\n",
       "    </tr>\n",
       "  </tbody>\n",
       "</table>\n",
       "</div>"
      ],
      "text/plain": [
       "              Open    High     Low   Close Volume     Market Cap\n",
       "Date                                                            \n",
       "2024-05-21  135.30  135.98  132.10  134.21      -  1,500,520,000\n",
       "2024-05-20  134.44  147.49  134.00  144.54      -  1,491,160,000\n",
       "2024-05-19  144.00  146.93  134.05  139.00      -  1,597,780,000\n",
       "2024-05-18  139.00  139.89  107.72  116.99      -  1,542,820,000"
      ]
     },
     "execution_count": 54,
     "metadata": {},
     "output_type": "execute_result"
    }
   ],
   "source": [
    "data.head(4)"
   ]
  },
  {
   "cell_type": "code",
   "execution_count": 56,
   "id": "e939a786-3718-4071-b082-b2d726410a07",
   "metadata": {},
   "outputs": [
    {
     "data": {
      "text/plain": [
       "Date\n",
       "2020-12-31    1322.108903\n",
       "2021-12-31     456.659753\n",
       "2022-12-31     281.916192\n",
       "2023-12-31     553.313534\n",
       "2024-12-31     111.155634\n",
       "Freq: YE-DEC, Name: Close, dtype: float64"
      ]
     },
     "execution_count": 56,
     "metadata": {},
     "output_type": "execute_result"
    }
   ],
   "source": [
    "## finding avg price of bitcoin on yearly basis ..\n",
    "data['Close'].resample('YE').mean()"
   ]
  },
  {
   "cell_type": "code",
   "execution_count": 57,
   "id": "93e7422f-d2ab-49d9-93e5-6a03aa27ac57",
   "metadata": {},
   "outputs": [
    {
     "data": {
      "text/plain": [
       "<Axes: xlabel='Date'>"
      ]
     },
     "execution_count": 57,
     "metadata": {},
     "output_type": "execute_result"
    },
    {
     "data": {
      "image/png": "[encoded data removed]",
      "text/plain": [
       "<Figure size 640x480 with 1 Axes>"
      ]
     },
     "metadata": {},
     "output_type": "display_data"
    }
   ],
   "source": [
    "data['Close'].resample('YE').mean().plot()"
   ]
  },
  {
   "cell_type": "code",
   "execution_count": 61,
   "id": "2a31bdf4-53d9-4cd9-abb5-af65f95da44f",
   "metadata": {},
   "outputs": [
    {
     "data": {
      "text/plain": [
       "Date\n",
       "2020-03-31    2543.751136\n",
       "2020-06-30    1688.203846\n",
       "2020-09-30    1011.111413\n",
       "2020-12-31     686.727065\n",
       "2021-03-31     625.437889\n",
       "2021-06-30     476.283077\n",
       "2021-09-30     414.146957\n",
       "2021-12-31     314.653478\n",
       "2022-03-31     257.300667\n",
       "2022-06-30     237.506374\n",
       "2022-09-30     261.635000\n",
       "2022-12-31     370.204891\n",
       "2023-03-31     562.024333\n",
       "2023-06-30     512.802418\n",
       "2023-09-30     719.638587\n",
       "2023-12-31     418.537826\n",
       "2024-03-31     107.289011\n",
       "2024-06-30     118.054902\n",
       "Freq: QE-DEC, Name: Close, dtype: float64"
      ]
     },
     "execution_count": 61,
     "metadata": {},
     "output_type": "execute_result"
    }
   ],
   "source": [
    "## finding avg price of bitcoin on quarterly basis ..\n",
    "data['Close'].resample('QE').mean()"
   ]
  },
  {
   "cell_type": "code",
   "execution_count": 60,
   "id": "2d14051f-3648-4c3b-94f6-e60b6a2f7805",
   "metadata": {},
   "outputs": [
    {
     "data": {
      "text/plain": [
       "<Axes: xlabel='Date'>"
      ]
     },
     "execution_count": 60,
     "metadata": {},
     "output_type": "execute_result"
    },
    {
     "data": {
      "image/png": "[encoded data removed]",
      "text/plain": [
       "<Figure size 640x480 with 1 Axes>"
      ]
     },
     "metadata": {},
     "output_type": "display_data"
    }
   ],
   "source": [
    "data['Close'].resample('QE').mean().plot()"
   ]
  },
  {
   "cell_type": "code",
   "execution_count": 63,
   "id": "326f2a29-36d9-4236-9f8f-edd8e4f065db",
   "metadata": {},
   "outputs": [
    {
     "data": {
      "text/plain": [
       "Date\n",
       "2020-02-29    2692.296923\n",
       "2020-03-31    2481.457742\n",
       "2020-04-30    2457.790333\n",
       "2020-05-31    1506.414516\n",
       "2020-06-30    1106.466333\n",
       "2020-07-31    1164.548065\n",
       "2020-08-31     961.419032\n",
       "2020-09-30     903.909000\n",
       "2020-10-31     757.579032\n",
       "2020-11-30     688.001667\n",
       "2020-12-31     614.641613\n",
       "2021-01-31     591.718710\n",
       "2021-02-28     615.993571\n",
       "2021-03-31     667.687419\n",
       "2021-04-30     557.293333\n",
       "2021-05-31     451.700645\n",
       "2021-06-30     420.674667\n",
       "2021-07-31     421.528065\n",
       "2021-08-31     386.685161\n",
       "2021-09-30     434.897000\n",
       "2021-10-31     379.558710\n",
       "2021-11-30     324.185667\n",
       "2021-12-31     240.523548\n",
       "2022-01-31     231.311613\n",
       "2022-02-28     277.700000\n",
       "2022-03-31     264.864516\n",
       "2022-04-30     233.647667\n",
       "2022-05-31     234.037097\n",
       "2022-06-30     244.950000\n",
       "2022-07-31     264.946129\n",
       "2022-08-31     230.030968\n",
       "2022-09-30     290.871000\n",
       "2022-10-31     363.848065\n",
       "2022-11-30     362.414000\n",
       "2022-12-31     384.101290\n",
       "2023-01-31     489.249677\n",
       "2023-02-28     582.518929\n",
       "2023-03-31     616.287742\n",
       "2023-04-30     599.527333\n",
       "2023-05-31     454.678065\n",
       "2023-06-30     486.139333\n",
       "2023-07-31     611.655484\n",
       "2023-08-31     775.299032\n",
       "2023-09-30     773.705333\n",
       "2023-10-31     861.925484\n",
       "2023-11-30     257.040667\n",
       "2023-12-31     131.437742\n",
       "2024-01-31     126.112903\n",
       "2024-02-29     101.876552\n",
       "2024-03-31      93.528387\n",
       "2024-04-30     118.274333\n",
       "2024-05-31     117.741429\n",
       "Freq: ME, Name: Close, dtype: float64"
      ]
     },
     "execution_count": 63,
     "metadata": {},
     "output_type": "execute_result"
    }
   ],
   "source": [
    "## finding avg price of bitcoin on monthly basis ..\n",
    "data['Close'].resample('ME').mean()"
   ]
  },
  {
   "cell_type": "code",
   "execution_count": 64,
   "id": "9a578dc4-1994-43ab-aabe-dab259905799",
   "metadata": {},
   "outputs": [
    {
     "data": {
      "text/plain": [
       "<Axes: xlabel='Date'>"
      ]
     },
     "execution_count": 64,
     "metadata": {},
     "output_type": "execute_result"
    },
    {
     "data": {
      "image/png": "[encoded data removed]",
      "text/plain": [
       "<Figure size 640x480 with 1 Axes>"
      ]
     },
     "metadata": {},
     "output_type": "display_data"
    }
   ],
   "source": [
    "data['Close'].resample('ME').mean().plot()"
   ]
  },
  {
   "cell_type": "code",
   "execution_count": 66,
   "id": "99a77a17-787f-4967-8950-c7a7501d5f88",
   "metadata": {},
   "outputs": [
    {
     "data": {
      "text/plain": [
       "Date\n",
       "2020-02-23    2706.527143\n",
       "2020-03-01    2624.721429\n",
       "2020-03-08    2212.137143\n",
       "2020-03-15    2541.884286\n",
       "2020-03-22    2521.782857\n",
       "                 ...     \n",
       "2024-04-28     128.840000\n",
       "2024-05-05     119.284286\n",
       "2024-05-12     114.737143\n",
       "2024-05-19     114.237143\n",
       "2024-05-26     139.375000\n",
       "Freq: W-SUN, Name: Close, Length: 223, dtype: float64"
      ]
     },
     "execution_count": 66,
     "metadata": {},
     "output_type": "execute_result"
    }
   ],
   "source": [
    "## finding avg price of bitcoin on weekely basis ..\n",
    "data['Close'].resample('W').mean()"
   ]
  },
  {
   "cell_type": "code",
   "execution_count": 67,
   "id": "26450fb8-3913-4529-b666-0852dce192f1",
   "metadata": {},
   "outputs": [
    {
     "data": {
      "text/plain": [
       "<Axes: xlabel='Date'>"
      ]
     },
     "execution_count": 67,
     "metadata": {},
     "output_type": "execute_result"
    },
    {
     "data": {
      "image/png": "[encoded data removed]",
      "text/plain": [
       "<Figure size 640x480 with 1 Axes>"
      ]
     },
     "metadata": {},
     "output_type": "display_data"
    }
   ],
   "source": [
    "data['Close'].resample('W').mean().plot()"
   ]
  },
  {
   "cell_type": "code",
   "execution_count": 68,
   "id": "79020926-e465-47f7-83b3-2cc492423da3",
   "metadata": {},
   "outputs": [
    {
     "data": {
      "text/plain": [
       "Date\n",
       "2020-02-17    2875.34\n",
       "2020-02-18    2757.18\n",
       "2020-02-19    2726.45\n",
       "2020-02-20    2809.01\n",
       "2020-02-21    2671.78\n",
       "               ...   \n",
       "2024-05-17     105.21\n",
       "2024-05-18     116.99\n",
       "2024-05-19     139.00\n",
       "2024-05-20     144.54\n",
       "2024-05-21     134.21\n",
       "Freq: D, Name: Close, Length: 1556, dtype: float64"
      ]
     },
     "execution_count": 68,
     "metadata": {},
     "output_type": "execute_result"
    }
   ],
   "source": [
    "## finding avg price of bitcoin on daily basis ..\n",
    "data['Close'].resample('D').mean()"
   ]
  },
  {
   "cell_type": "code",
   "execution_count": 69,
   "id": "90132a6e-68cb-4751-922d-5d90c0d974d5",
   "metadata": {},
   "outputs": [
    {
     "data": {
      "text/plain": [
       "<Axes: xlabel='Date'>"
      ]
     },
     "execution_count": 69,
     "metadata": {},
     "output_type": "execute_result"
    },
    {
     "data": {
      "image/png": "[encoded data removed]",
      "text/plain": [
       "<Figure size 640x480 with 1 Axes>"
      ]
     },
     "metadata": {},
     "output_type": "display_data"
    }
   ],
   "source": [
    "data['Close'].resample('D').mean().plot()"
   ]
  },
  {
   "cell_type": "code",
   "execution_count": 74,
   "id": "fc3bf579-d8df-4612-a070-3aae786f3c2b",
   "metadata": {},
   "outputs": [
    {
     "data": {
      "text/plain": [
       "Date\n",
       "2020-02-17 00:00:00    2875.34\n",
       "2020-02-17 00:05:00        NaN\n",
       "2020-02-17 00:10:00        NaN\n",
       "2020-02-17 00:15:00        NaN\n",
       "2020-02-17 00:20:00        NaN\n",
       "                        ...   \n",
       "2024-05-20 23:40:00        NaN\n",
       "2024-05-20 23:45:00        NaN\n",
       "2024-05-20 23:50:00        NaN\n",
       "2024-05-20 23:55:00        NaN\n",
       "2024-05-21 00:00:00     134.21\n",
       "Freq: 5min, Name: Close, Length: 447841, dtype: float64"
      ]
     },
     "execution_count": 74,
     "metadata": {},
     "output_type": "execute_result"
    }
   ],
   "source": [
    "## finding avg price of bitcoin on minutes basis ..\n",
    "data['Close'].resample('5min').mean()"
   ]
  },
  {
   "cell_type": "code",
   "execution_count": 75,
   "id": "e5908be9-5456-442c-bf86-5eb62be5b9ad",
   "metadata": {},
   "outputs": [
    {
     "data": {
      "text/plain": [
       "<Axes: xlabel='Date'>"
      ]
     },
     "execution_count": 75,
     "metadata": {},
     "output_type": "execute_result"
    },
    {
     "data": {
      "image/png": "[encoded data removed]",
      "text/plain": [
       "<Figure size 640x480 with 1 Axes>"
      ]
     },
     "metadata": {},
     "output_type": "display_data"
    }
   ],
   "source": [
    "data['Close'].resample('5min').mean().plot()"
   ]
  },
  {
   "cell_type": "code",
   "execution_count": null,
   "id": "363e287c-d70f-44dd-aefa-f8c9d37788a3",
   "metadata": {},
   "outputs": [],
   "source": []
  },
  {
   "cell_type": "markdown",
   "id": "7842d9f6-98f0-40bd-ae5e-2f658cebc55e",
   "metadata": {
    "jp-MarkdownHeadingCollapsed": true
   },
   "source": [
    "### 7..Analysing daily change in Closing price of stocks!!"
   ]
  },
  {
   "cell_type": "code",
   "execution_count": null,
   "id": "71c9c611-c5f9-4bf6-b814-a4b0e1b93881",
   "metadata": {},
   "outputs": [],
   "source": [
    "'''\n",
    "    To calculate how much you gained or lost per day for a stock, subtract the opening price from the closing price.\n",
    "    Then, multiply the result by the number of shares you own in the company.\n",
    "'''"
   ]
  },
  {
   "cell_type": "code",
   "execution_count": 76,
   "id": "995f43e3-d0e0-4299-9dd6-c2d81ca11b49",
   "metadata": {},
   "outputs": [
    {
     "data": {
      "text/plain": [
       "Date\n",
       "2024-05-21     134.21\n",
       "2024-05-20     144.54\n",
       "2024-05-19     139.00\n",
       "2024-05-18     116.99\n",
       "2024-05-17     105.21\n",
       "               ...   \n",
       "2020-02-21    2671.78\n",
       "2020-02-20    2809.01\n",
       "2020-02-19    2726.45\n",
       "2020-02-18    2757.18\n",
       "2020-02-17    2875.34\n",
       "Name: Close, Length: 1556, dtype: float64"
      ]
     },
     "execution_count": 76,
     "metadata": {},
     "output_type": "execute_result"
    }
   ],
   "source": [
    "data['Close']"
   ]
  },
  {
   "cell_type": "code",
   "execution_count": 77,
   "id": "b369c730-2f79-42ed-b3d6-068b3e681f5a",
   "metadata": {},
   "outputs": [],
   "source": [
    "data['Close_price_pct_change'] = data['Close'].pct_change()*100"
   ]
  },
  {
   "cell_type": "code",
   "execution_count": 78,
   "id": "2d4512c8-ea72-464c-9cac-3a11ee348c8e",
   "metadata": {},
   "outputs": [
    {
     "data": {
      "text/plain": [
       "Date\n",
       "2024-05-21          NaN\n",
       "2024-05-20     7.696893\n",
       "2024-05-19    -3.832849\n",
       "2024-05-18   -15.834532\n",
       "2024-05-17   -10.069237\n",
       "                ...    \n",
       "2020-02-21     5.626915\n",
       "2020-02-20     5.136276\n",
       "2020-02-19    -2.939114\n",
       "2020-02-18     1.127107\n",
       "2020-02-17     4.285538\n",
       "Name: Close_price_pct_change, Length: 1556, dtype: float64"
      ]
     },
     "execution_count": 78,
     "metadata": {},
     "output_type": "execute_result"
    }
   ],
   "source": [
    "data['Close_price_pct_change']"
   ]
  },
  {
   "cell_type": "code",
   "execution_count": 79,
   "id": "8d0ddab8-c7c7-4a3d-af40-fd48d89a78bd",
   "metadata": {},
   "outputs": [
    {
     "data": {
      "text/plain": [
       "<Axes: xlabel='Date'>"
      ]
     },
     "execution_count": 79,
     "metadata": {},
     "output_type": "execute_result"
    },
    {
     "data": {
      "image/png": "[encoded data removed]",
      "text/plain": [
       "<Figure size 640x480 with 1 Axes>"
      ]
     },
     "metadata": {},
     "output_type": "display_data"
    }
   ],
   "source": [
    "data['Close_price_pct_change'].plot()"
   ]
  },
  {
   "cell_type": "code",
   "execution_count": null,
   "id": "6f4084f7-d4b3-4fbb-b05c-811e74809589",
   "metadata": {},
   "outputs": [],
   "source": [
    "'''\n",
    "If we want to make this Pandas plot interactive , u can think of using cufflinks & Plotly\n",
    "'''"
   ]
  },
  {
   "cell_type": "code",
   "execution_count": 80,
   "id": "0a54e599-e761-4397-8362-5eb521d556b4",
   "metadata": {},
   "outputs": [
    {
     "data": {
      "text/html": [
       "        <script type=\"text/javascript\">\n",
       "        window.PlotlyConfig = {MathJaxConfig: 'local'};\n",
       "        if (window.MathJax && window.MathJax.Hub && window.MathJax.Hub.Config) {window.MathJax.Hub.Config({SVG: {font: \"STIX-Web\"}});}\n",
       "        </script>\n",
       "        <script type=\"module\">import \"https://cdn.plot.ly/plotly-3.0.1.min\"</script>\n",
       "        "
      ]
     },
     "metadata": {},
     "output_type": "display_data"
    }
   ],
   "source": [
    "import chart_studio.plotly as py\n",
    "import plotly.graph_objs as go\n",
    "import plotly.express as px\n",
    "from plotly.offline import download_plotlyjs , init_notebook_mode , plot , iplot\n",
    "init_notebook_mode(connected=True)"
   ]
  },
  {
   "cell_type": "code",
   "execution_count": null,
   "id": "46a48732-1560-4ca3-b21c-a0834387ed99",
   "metadata": {},
   "outputs": [],
   "source": [
    "## chart_studio provides a web-service for hosting graphs!\n",
    "## plot is a command of Matplotlib which is more old-school. It creates static charts\n",
    "## iplot() when working in a Jupyter Notebook to display the plot in the notebook.\n",
    "## iplot is an interactive plot. Plotly takes Python code and makes beautiful looking JavaScript plots."
   ]
  },
  {
   "cell_type": "code",
   "execution_count": 82,
   "id": "ba9f193f-6428-4c2b-9b54-85bc0ce0fcde",
   "metadata": {},
   "outputs": [
    {
     "name": "stdout",
     "output_type": "stream",
     "text": [
      "Defaulting to user installation because normal site-packages is not writeable\n",
      "Collecting cufflinks\n",
      "  Downloading cufflinks-0.17.3.tar.gz (81 kB)\n",
      "  Preparing metadata (setup.py): started\n",
      "  Preparing metadata (setup.py): finished with status 'done'\n",
      "Requirement already satisfied: numpy>=1.9.2 in c:\\users\\chandu.v01\\appdata\\roaming\\python\\python313\\site-packages (from cufflinks) (2.2.3)\n",
      "Requirement already satisfied: pandas>=0.19.2 in c:\\users\\chandu.v01\\appdata\\roaming\\python\\python313\\site-packages (from cufflinks) (2.2.3)\n",
      "Requirement already satisfied: plotly>=4.1.1 in c:\\users\\chandu.v01\\appdata\\roaming\\python\\python313\\site-packages (from cufflinks) (6.0.1)\n",
      "Requirement already satisfied: six>=1.9.0 in c:\\users\\chandu.v01\\appdata\\roaming\\python\\python313\\site-packages (from cufflinks) (1.17.0)\n",
      "Collecting colorlover>=0.2.1 (from cufflinks)\n",
      "  Downloading colorlover-0.3.0-py3-none-any.whl.metadata (421 bytes)\n",
      "Requirement already satisfied: setuptools>=34.4.1 in c:\\users\\chandu.v01\\appdata\\roaming\\python\\python313\\site-packages (from cufflinks) (75.8.0)\n",
      "Requirement already satisfied: ipython>=5.3.0 in c:\\users\\chandu.v01\\appdata\\roaming\\python\\python313\\site-packages (from cufflinks) (8.30.0)\n",
      "Requirement already satisfied: ipywidgets>=7.0.0 in c:\\users\\chandu.v01\\appdata\\roaming\\python\\python313\\site-packages (from cufflinks) (8.1.5)\n",
      "Requirement already satisfied: colorama in c:\\users\\chandu.v01\\appdata\\roaming\\python\\python313\\site-packages (from ipython>=5.3.0->cufflinks) (0.4.6)\n",
      "Requirement already satisfied: decorator in c:\\users\\chandu.v01\\appdata\\roaming\\python\\python313\\site-packages (from ipython>=5.3.0->cufflinks) (5.1.1)\n",
      "Requirement already satisfied: jedi>=0.16 in c:\\users\\chandu.v01\\appdata\\roaming\\python\\python313\\site-packages (from ipython>=5.3.0->cufflinks) (0.19.2)\n",
      "Requirement already satisfied: matplotlib-inline in c:\\users\\chandu.v01\\appdata\\roaming\\python\\python313\\site-packages (from ipython>=5.3.0->cufflinks) (0.1.7)\n",
      "Requirement already satisfied: prompt_toolkit<3.1.0,>=3.0.41 in c:\\users\\chandu.v01\\appdata\\roaming\\python\\python313\\site-packages (from ipython>=5.3.0->cufflinks) (3.0.48)\n",
      "Requirement already satisfied: pygments>=2.4.0 in c:\\users\\chandu.v01\\appdata\\roaming\\python\\python313\\site-packages (from ipython>=5.3.0->cufflinks) (2.18.0)\n",
      "Requirement already satisfied: stack_data in c:\\users\\chandu.v01\\appdata\\roaming\\python\\python313\\site-packages (from ipython>=5.3.0->cufflinks) (0.6.3)\n",
      "Requirement already satisfied: traitlets>=5.13.0 in c:\\users\\chandu.v01\\appdata\\roaming\\python\\python313\\site-packages (from ipython>=5.3.0->cufflinks) (5.14.3)\n",
      "Requirement already satisfied: comm>=0.1.3 in c:\\users\\chandu.v01\\appdata\\roaming\\python\\python313\\site-packages (from ipywidgets>=7.0.0->cufflinks) (0.2.2)\n",
      "Requirement already satisfied: widgetsnbextension~=4.0.12 in c:\\users\\chandu.v01\\appdata\\roaming\\python\\python313\\site-packages (from ipywidgets>=7.0.0->cufflinks) (4.0.13)\n",
      "Requirement already satisfied: jupyterlab-widgets~=3.0.12 in c:\\users\\chandu.v01\\appdata\\roaming\\python\\python313\\site-packages (from ipywidgets>=7.0.0->cufflinks) (3.0.13)\n",
      "Requirement already satisfied: python-dateutil>=2.8.2 in c:\\users\\chandu.v01\\appdata\\roaming\\python\\python313\\site-packages (from pandas>=0.19.2->cufflinks) (2.9.0.post0)\n",
      "Requirement already satisfied: pytz>=2020.1 in c:\\users\\chandu.v01\\appdata\\roaming\\python\\python313\\site-packages (from pandas>=0.19.2->cufflinks) (2025.1)\n",
      "Requirement already satisfied: tzdata>=2022.7 in c:\\users\\chandu.v01\\appdata\\roaming\\python\\python313\\site-packages (from pandas>=0.19.2->cufflinks) (2025.1)\n",
      "Requirement already satisfied: narwhals>=1.15.1 in c:\\users\\chandu.v01\\appdata\\roaming\\python\\python313\\site-packages (from plotly>=4.1.1->cufflinks) (1.36.0)\n",
      "Requirement already satisfied: packaging in c:\\users\\chandu.v01\\appdata\\roaming\\python\\python313\\site-packages (from plotly>=4.1.1->cufflinks) (24.2)\n",
      "Requirement already satisfied: parso<0.9.0,>=0.8.4 in c:\\users\\chandu.v01\\appdata\\roaming\\python\\python313\\site-packages (from jedi>=0.16->ipython>=5.3.0->cufflinks) (0.8.4)\n",
      "Requirement already satisfied: wcwidth in c:\\users\\chandu.v01\\appdata\\roaming\\python\\python313\\site-packages (from prompt_toolkit<3.1.0,>=3.0.41->ipython>=5.3.0->cufflinks) (0.2.13)\n",
      "Requirement already satisfied: executing>=1.2.0 in c:\\users\\chandu.v01\\appdata\\roaming\\python\\python313\\site-packages (from stack_data->ipython>=5.3.0->cufflinks) (2.1.0)\n",
      "Requirement already satisfied: asttokens>=2.1.0 in c:\\users\\chandu.v01\\appdata\\roaming\\python\\python313\\site-packages (from stack_data->ipython>=5.3.0->cufflinks) (3.0.0)\n",
      "Requirement already satisfied: pure-eval in c:\\users\\chandu.v01\\appdata\\roaming\\python\\python313\\site-packages (from stack_data->ipython>=5.3.0->cufflinks) (0.2.3)\n",
      "Downloading colorlover-0.3.0-py3-none-any.whl (8.9 kB)\n",
      "Building wheels for collected packages: cufflinks\n",
      "  Building wheel for cufflinks (setup.py): started\n",
      "  Building wheel for cufflinks (setup.py): finished with status 'done'\n",
      "  Created wheel for cufflinks: filename=cufflinks-0.17.3-py3-none-any.whl size=68765 sha256=3b0d7ead1aed289a6ac77c4934544d2748982397446a10052e6f0d6ed5bd7f54\n",
      "  Stored in directory: c:\\users\\chandu.v01\\appdata\\local\\pip\\cache\\wheels\\13\\bc\\65\\1ac45445dba1052b5e837dc49f5282c8cb2f934ae9e6f62f0e\n",
      "Successfully built cufflinks\n",
      "Installing collected packages: colorlover, cufflinks\n",
      "Successfully installed colorlover-0.3.0 cufflinks-0.17.3\n"
     ]
    }
   ],
   "source": [
    "!pip install cufflinks"
   ]
  },
  {
   "cell_type": "code",
   "execution_count": 83,
   "id": "3e799a30-9a00-4977-adf9-d5893cb13a32",
   "metadata": {},
   "outputs": [],
   "source": [
    "import cufflinks as cf"
   ]
  },
  {
   "cell_type": "code",
   "execution_count": 84,
   "id": "ff97c67c-f9ce-4097-bfd6-d683313b0a1d",
   "metadata": {},
   "outputs": [
    {
     "data": {
      "text/html": [
       "        <script type=\"text/javascript\">\n",
       "        window.PlotlyConfig = {MathJaxConfig: 'local'};\n",
       "        if (window.MathJax && window.MathJax.Hub && window.MathJax.Hub.Config) {window.MathJax.Hub.Config({SVG: {font: \"STIX-Web\"}});}\n",
       "        </script>\n",
       "        <script type=\"module\">import \"https://cdn.plot.ly/plotly-3.0.1.min\"</script>\n",
       "        "
      ]
     },
     "metadata": {},
     "output_type": "display_data"
    }
   ],
   "source": [
    "cf.go_offline()"
   ]
  },
  {
   "cell_type": "code",
   "execution_count": 85,
   "id": "538d9307-9da0-4ee6-85ca-42bd422ecffc",
   "metadata": {},
   "outputs": [
    {
     "data": {
      "text/plain": [
       "Date\n",
       "2024-05-21          NaN\n",
       "2024-05-20     7.696893\n",
       "2024-05-19    -3.832849\n",
       "2024-05-18   -15.834532\n",
       "2024-05-17   -10.069237\n",
       "                ...    \n",
       "2020-02-21     5.626915\n",
       "2020-02-20     5.136276\n",
       "2020-02-19    -2.939114\n",
       "2020-02-18     1.127107\n",
       "2020-02-17     4.285538\n",
       "Name: Close_price_pct_change, Length: 1556, dtype: float64"
      ]
     },
     "execution_count": 85,
     "metadata": {},
     "output_type": "execute_result"
    }
   ],
   "source": [
    "data['Close_price_pct_change']"
   ]
  },
  {
   "cell_type": "code",
   "execution_count": 86,
   "id": "4724e1c1-ef15-4017-b3d4-baddbc3b7e5e",
   "metadata": {},
   "outputs": [
    {
     "data": {
      "text/plain": [
       "pandas.core.series.Series"
      ]
     },
     "execution_count": 86,
     "metadata": {},
     "output_type": "execute_result"
    }
   ],
   "source": [
    "type(data['Close_price_pct_change'])"
   ]
  },
  {
   "cell_type": "code",
   "execution_count": null,
   "id": "41bdcb14-1514-4fc8-941a-59257e2eb895",
   "metadata": {},
   "outputs": [],
   "source": [
    "data['Close_price_pct_change'].iplot()"
   ]
  },
  {
   "cell_type": "code",
   "execution_count": 90,
   "id": "75c5bdfe-6429-40f2-a8ff-d8ce8c281d9e",
   "metadata": {},
   "outputs": [],
   "source": [
    "import numpy as np\n",
    "alpha = float(np.float64(1.0))  # Convert to native Python float\n",
    "color = f'rgba(255, 153, 51, {alpha})'"
   ]
  },
  {
   "cell_type": "code",
   "execution_count": null,
   "id": "d3d5710c-c9f7-40db-b688-8f7ab2b1cc36",
   "metadata": {},
   "outputs": [],
   "source": []
  }
 ],
 "metadata": {
  "kernelspec": {
   "display_name": "Python 3 (ipykernel)",
   "language": "python",
   "name": "python3"
  },
  "language_info": {
   "codemirror_mode": {
    "name": "ipython",
    "version": 3
   },
   "file_extension": ".py",
   "mimetype": "text/x-python",
   "name": "python",
   "nbconvert_exporter": "python",
   "pygments_lexer": "ipython3",
   "version": "3.13.0"
  }
 },
 "nbformat": 4,
 "nbformat_minor": 5
}
